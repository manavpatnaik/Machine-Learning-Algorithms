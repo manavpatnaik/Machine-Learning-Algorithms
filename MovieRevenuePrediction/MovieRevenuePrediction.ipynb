{
  "nbformat": 4,
  "nbformat_minor": 0,
  "metadata": {
    "colab": {
      "name": "MovieRevenuePrediction.ipynb",
      "provenance": [],
      "collapsed_sections": []
    },
    "kernelspec": {
      "name": "python3",
      "display_name": "Python 3"
    },
    "language_info": {
      "name": "python"
    }
  },
  "cells": [
    {
      "cell_type": "markdown",
      "metadata": {
        "id": "r1c--WLE-LqL"
      },
      "source": [
        "#TEAM 19 - Movie Revenue Prediction\n",
        "\n",
        "##TEAM MEMBERS\n",
        "\n",
        "1. CB.EN.U4CSE19017 - GOMATHI.R\n",
        "2. CB.EN.U4CSE19033 - MANAV PATNAIK\n",
        "3. CB.EN.U4CSE19058 - V.SAIPADMESH"
      ]
    },
    {
      "cell_type": "code",
      "metadata": {
        "id": "_prIkeD8-GjY"
      },
      "source": [
        "import pandas as pd\n",
        "import matplotlib.pyplot as plt\n",
        "import matplotlib\n",
        "import numpy as np\n",
        "import seaborn as sns\n",
        "import scipy\n",
        "import warnings\n",
        "from sklearn import preprocessing\n",
        "warnings.filterwarnings('ignore')"
      ],
      "execution_count": 818,
      "outputs": []
    },
    {
      "cell_type": "markdown",
      "metadata": {
        "id": "GO_2sN0bGCTI"
      },
      "source": [
        "## Introduction\n",
        "\n",
        "  IMDb is the most popular movie website and it combines movie plot description, Metastore ratings, critic and user ratings and reviews, release dates, and many more aspects. The website is well known for storing almost every movie that has ever been released. IMDb stores information related to more than 6 million titles and it is owned by Amazon since 1998. \n",
        "\n",
        "  This dataset contains a collection of 5000 movies with attributes like Color, Director name, number of critic reviews, duration, gross income, genre, actor names, and their Facebook followers/likes count. This would allow us to perform extensive analysis on movies, based on their color, genre, and directors, etc., and come to significant conclusions about them. The metadata about the movies reveals a lot about the performance of the directors, actors, and the relationship between the gross income with several other factors. \n",
        "\n",
        "  Our aim as a team is to process and clean the data given in this dataset, draw graphs to visualize and thus, better understand the dataset.\n",
        "\n",
        "Dataset link: [IMDB Movies](https://github.com/manavpatnaik/Machine-Learning-Algorithms/tree/main/MovieRevenuePrediction)"
      ]
    },
    {
      "cell_type": "markdown",
      "metadata": {
        "id": "s02i8V1oCjka"
      },
      "source": [
        "## Importing and merging datasets"
      ]
    },
    {
      "cell_type": "code",
      "metadata": {
        "id": "jIcRZThtCllj"
      },
      "source": [
        "# Dataset public links\n",
        "movies = 'https://raw.githubusercontent.com/manavpatnaik/Machine-Learning-Algorithms/main/MovieRevenuePrediction/movies.csv'\n",
        "actors = 'https://raw.githubusercontent.com/manavpatnaik/Machine-Learning-Algorithms/main/MovieRevenuePrediction/actors.csv'\n",
        "directors = 'https://raw.githubusercontent.com/manavpatnaik/Machine-Learning-Algorithms/main/MovieRevenuePrediction/directors.csv'"
      ],
      "execution_count": 819,
      "outputs": []
    },
    {
      "cell_type": "code",
      "metadata": {
        "id": "v34vfbTRCz-u"
      },
      "source": [
        "movie_df = pd.read_csv(movies)\n",
        "actor_df = pd.read_csv(actors)\n",
        "director_df = pd.read_csv(directors)"
      ],
      "execution_count": 820,
      "outputs": []
    },
    {
      "cell_type": "code",
      "metadata": {
        "colab": {
          "base_uri": "https://localhost:8080/",
          "height": 374
        },
        "id": "ryy5ZGvDC941",
        "outputId": "35494f91-9e09-4264-8e60-dd9b49f7165d"
      },
      "source": [
        "movie_df.head()"
      ],
      "execution_count": 821,
      "outputs": [
        {
          "output_type": "execute_result",
          "data": {
            "text/html": [
              "<div>\n",
              "<style scoped>\n",
              "    .dataframe tbody tr th:only-of-type {\n",
              "        vertical-align: middle;\n",
              "    }\n",
              "\n",
              "    .dataframe tbody tr th {\n",
              "        vertical-align: top;\n",
              "    }\n",
              "\n",
              "    .dataframe thead th {\n",
              "        text-align: right;\n",
              "    }\n",
              "</style>\n",
              "<table border=\"1\" class=\"dataframe\">\n",
              "  <thead>\n",
              "    <tr style=\"text-align: right;\">\n",
              "      <th></th>\n",
              "      <th>color</th>\n",
              "      <th>director_name</th>\n",
              "      <th>num_critic_for_reviews</th>\n",
              "      <th>duration</th>\n",
              "      <th>actor_2_name</th>\n",
              "      <th>gross</th>\n",
              "      <th>genres</th>\n",
              "      <th>actor_1_name</th>\n",
              "      <th>movie_title</th>\n",
              "      <th>num_voted_users</th>\n",
              "      <th>cast_total_facebook_likes</th>\n",
              "      <th>facenumber_in_poster</th>\n",
              "      <th>plot_keywords</th>\n",
              "      <th>movie_imdb_link</th>\n",
              "      <th>num_user_for_reviews</th>\n",
              "      <th>language</th>\n",
              "      <th>country</th>\n",
              "      <th>content_rating</th>\n",
              "      <th>budget</th>\n",
              "      <th>title_year</th>\n",
              "      <th>imdb_score</th>\n",
              "      <th>aspect_ratio</th>\n",
              "      <th>movie_facebook_likes</th>\n",
              "    </tr>\n",
              "  </thead>\n",
              "  <tbody>\n",
              "    <tr>\n",
              "      <th>0</th>\n",
              "      <td>Color</td>\n",
              "      <td>James Cameron</td>\n",
              "      <td>723.0</td>\n",
              "      <td>178.0</td>\n",
              "      <td>Joel David Moore</td>\n",
              "      <td>760505847.0</td>\n",
              "      <td>Action|Adventure|Fantasy|Sci-Fi</td>\n",
              "      <td>CCH Pounder</td>\n",
              "      <td>Avatar</td>\n",
              "      <td>886204</td>\n",
              "      <td>4834</td>\n",
              "      <td>0.0</td>\n",
              "      <td>avatar|future|marine|native|paraplegic</td>\n",
              "      <td>http://www.imdb.com/title/tt0499549/?ref_=fn_t...</td>\n",
              "      <td>3054.0</td>\n",
              "      <td>English</td>\n",
              "      <td>USA</td>\n",
              "      <td>PG-13</td>\n",
              "      <td>237000000.0</td>\n",
              "      <td>2009.0</td>\n",
              "      <td>7.9</td>\n",
              "      <td>1.78</td>\n",
              "      <td>33000</td>\n",
              "    </tr>\n",
              "    <tr>\n",
              "      <th>1</th>\n",
              "      <td>Color</td>\n",
              "      <td>Gore Verbinski</td>\n",
              "      <td>302.0</td>\n",
              "      <td>169.0</td>\n",
              "      <td>Orlando Bloom</td>\n",
              "      <td>309404152.0</td>\n",
              "      <td>Action|Adventure|Fantasy</td>\n",
              "      <td>Johnny Depp</td>\n",
              "      <td>Pirates of the Caribbean: At World's End</td>\n",
              "      <td>471220</td>\n",
              "      <td>48350</td>\n",
              "      <td>0.0</td>\n",
              "      <td>goddess|marriage ceremony|marriage proposal|pi...</td>\n",
              "      <td>http://www.imdb.com/title/tt0449088/?ref_=fn_t...</td>\n",
              "      <td>1238.0</td>\n",
              "      <td>English</td>\n",
              "      <td>USA</td>\n",
              "      <td>PG-13</td>\n",
              "      <td>300000000.0</td>\n",
              "      <td>2007.0</td>\n",
              "      <td>7.1</td>\n",
              "      <td>2.35</td>\n",
              "      <td>0</td>\n",
              "    </tr>\n",
              "    <tr>\n",
              "      <th>2</th>\n",
              "      <td>Color</td>\n",
              "      <td>Sam Mendes</td>\n",
              "      <td>602.0</td>\n",
              "      <td>148.0</td>\n",
              "      <td>Rory Kinnear</td>\n",
              "      <td>200074175.0</td>\n",
              "      <td>Action|Adventure|Thriller</td>\n",
              "      <td>Christoph Waltz</td>\n",
              "      <td>Spectre</td>\n",
              "      <td>275868</td>\n",
              "      <td>11700</td>\n",
              "      <td>1.0</td>\n",
              "      <td>bomb|espionage|sequel|spy|terrorist</td>\n",
              "      <td>http://www.imdb.com/title/tt2379713/?ref_=fn_t...</td>\n",
              "      <td>994.0</td>\n",
              "      <td>English</td>\n",
              "      <td>UK</td>\n",
              "      <td>PG-13</td>\n",
              "      <td>245000000.0</td>\n",
              "      <td>2015.0</td>\n",
              "      <td>6.8</td>\n",
              "      <td>2.35</td>\n",
              "      <td>85000</td>\n",
              "    </tr>\n",
              "    <tr>\n",
              "      <th>3</th>\n",
              "      <td>Color</td>\n",
              "      <td>Christopher Nolan</td>\n",
              "      <td>813.0</td>\n",
              "      <td>164.0</td>\n",
              "      <td>Christian Bale</td>\n",
              "      <td>448130642.0</td>\n",
              "      <td>Action|Thriller</td>\n",
              "      <td>Tom Hardy</td>\n",
              "      <td>The Dark Knight Rises</td>\n",
              "      <td>1144337</td>\n",
              "      <td>106759</td>\n",
              "      <td>0.0</td>\n",
              "      <td>deception|imprisonment|lawlessness|police offi...</td>\n",
              "      <td>http://www.imdb.com/title/tt1345836/?ref_=fn_t...</td>\n",
              "      <td>2701.0</td>\n",
              "      <td>English</td>\n",
              "      <td>USA</td>\n",
              "      <td>PG-13</td>\n",
              "      <td>250000000.0</td>\n",
              "      <td>2012.0</td>\n",
              "      <td>8.5</td>\n",
              "      <td>2.35</td>\n",
              "      <td>164000</td>\n",
              "    </tr>\n",
              "    <tr>\n",
              "      <th>4</th>\n",
              "      <td>NaN</td>\n",
              "      <td>Doug Walker</td>\n",
              "      <td>NaN</td>\n",
              "      <td>NaN</td>\n",
              "      <td>Rob Walker</td>\n",
              "      <td>NaN</td>\n",
              "      <td>Documentary</td>\n",
              "      <td>Doug Walker</td>\n",
              "      <td>Star Wars: Episode VII - The Force Awakens    ...</td>\n",
              "      <td>8</td>\n",
              "      <td>143</td>\n",
              "      <td>0.0</td>\n",
              "      <td>NaN</td>\n",
              "      <td>http://www.imdb.com/title/tt5289954/?ref_=fn_t...</td>\n",
              "      <td>NaN</td>\n",
              "      <td>NaN</td>\n",
              "      <td>NaN</td>\n",
              "      <td>NaN</td>\n",
              "      <td>NaN</td>\n",
              "      <td>NaN</td>\n",
              "      <td>7.1</td>\n",
              "      <td>NaN</td>\n",
              "      <td>0</td>\n",
              "    </tr>\n",
              "  </tbody>\n",
              "</table>\n",
              "</div>"
            ],
            "text/plain": [
              "   color      director_name  ...  aspect_ratio  movie_facebook_likes\n",
              "0  Color      James Cameron  ...          1.78                 33000\n",
              "1  Color     Gore Verbinski  ...          2.35                     0\n",
              "2  Color         Sam Mendes  ...          2.35                 85000\n",
              "3  Color  Christopher Nolan  ...          2.35                164000\n",
              "4    NaN        Doug Walker  ...           NaN                     0\n",
              "\n",
              "[5 rows x 23 columns]"
            ]
          },
          "metadata": {},
          "execution_count": 821
        }
      ]
    },
    {
      "cell_type": "code",
      "metadata": {
        "colab": {
          "base_uri": "https://localhost:8080/",
          "height": 203
        },
        "id": "zNQEIbdqC_2K",
        "outputId": "abea12b0-6a48-413e-bc17-ac95d22db2c5"
      },
      "source": [
        "actor_df.head()"
      ],
      "execution_count": 822,
      "outputs": [
        {
          "output_type": "execute_result",
          "data": {
            "text/html": [
              "<div>\n",
              "<style scoped>\n",
              "    .dataframe tbody tr th:only-of-type {\n",
              "        vertical-align: middle;\n",
              "    }\n",
              "\n",
              "    .dataframe tbody tr th {\n",
              "        vertical-align: top;\n",
              "    }\n",
              "\n",
              "    .dataframe thead th {\n",
              "        text-align: right;\n",
              "    }\n",
              "</style>\n",
              "<table border=\"1\" class=\"dataframe\">\n",
              "  <thead>\n",
              "    <tr style=\"text-align: right;\">\n",
              "      <th></th>\n",
              "      <th>actor_1_name</th>\n",
              "      <th>actor_2_name</th>\n",
              "      <th>actor_1_facebook_likes</th>\n",
              "      <th>actor_2_facebook_likes</th>\n",
              "    </tr>\n",
              "  </thead>\n",
              "  <tbody>\n",
              "    <tr>\n",
              "      <th>0</th>\n",
              "      <td>CCH Pounder</td>\n",
              "      <td>Joel David Moore</td>\n",
              "      <td>1000.0</td>\n",
              "      <td>936.0</td>\n",
              "    </tr>\n",
              "    <tr>\n",
              "      <th>1</th>\n",
              "      <td>Johnny Depp</td>\n",
              "      <td>Orlando Bloom</td>\n",
              "      <td>40000.0</td>\n",
              "      <td>5000.0</td>\n",
              "    </tr>\n",
              "    <tr>\n",
              "      <th>2</th>\n",
              "      <td>Christoph Waltz</td>\n",
              "      <td>Rory Kinnear</td>\n",
              "      <td>11000.0</td>\n",
              "      <td>393.0</td>\n",
              "    </tr>\n",
              "    <tr>\n",
              "      <th>3</th>\n",
              "      <td>Tom Hardy</td>\n",
              "      <td>Christian Bale</td>\n",
              "      <td>27000.0</td>\n",
              "      <td>23000.0</td>\n",
              "    </tr>\n",
              "    <tr>\n",
              "      <th>4</th>\n",
              "      <td>Doug Walker</td>\n",
              "      <td>Rob Walker</td>\n",
              "      <td>131.0</td>\n",
              "      <td>12.0</td>\n",
              "    </tr>\n",
              "  </tbody>\n",
              "</table>\n",
              "</div>"
            ],
            "text/plain": [
              "      actor_1_name  ... actor_2_facebook_likes\n",
              "0      CCH Pounder  ...                  936.0\n",
              "1      Johnny Depp  ...                 5000.0\n",
              "2  Christoph Waltz  ...                  393.0\n",
              "3        Tom Hardy  ...                23000.0\n",
              "4      Doug Walker  ...                   12.0\n",
              "\n",
              "[5 rows x 4 columns]"
            ]
          },
          "metadata": {},
          "execution_count": 822
        }
      ]
    },
    {
      "cell_type": "code",
      "metadata": {
        "colab": {
          "base_uri": "https://localhost:8080/",
          "height": 203
        },
        "id": "KrI9TKjzDBDJ",
        "outputId": "ce3b3a11-529f-48b0-fab1-d8825c8d54f6"
      },
      "source": [
        "director_df.head()"
      ],
      "execution_count": 823,
      "outputs": [
        {
          "output_type": "execute_result",
          "data": {
            "text/html": [
              "<div>\n",
              "<style scoped>\n",
              "    .dataframe tbody tr th:only-of-type {\n",
              "        vertical-align: middle;\n",
              "    }\n",
              "\n",
              "    .dataframe tbody tr th {\n",
              "        vertical-align: top;\n",
              "    }\n",
              "\n",
              "    .dataframe thead th {\n",
              "        text-align: right;\n",
              "    }\n",
              "</style>\n",
              "<table border=\"1\" class=\"dataframe\">\n",
              "  <thead>\n",
              "    <tr style=\"text-align: right;\">\n",
              "      <th></th>\n",
              "      <th>director_name</th>\n",
              "      <th>director_facebook_likes</th>\n",
              "    </tr>\n",
              "  </thead>\n",
              "  <tbody>\n",
              "    <tr>\n",
              "      <th>0</th>\n",
              "      <td>James Cameron</td>\n",
              "      <td>0.0</td>\n",
              "    </tr>\n",
              "    <tr>\n",
              "      <th>1</th>\n",
              "      <td>Gore Verbinski</td>\n",
              "      <td>563.0</td>\n",
              "    </tr>\n",
              "    <tr>\n",
              "      <th>2</th>\n",
              "      <td>Sam Mendes</td>\n",
              "      <td>0.0</td>\n",
              "    </tr>\n",
              "    <tr>\n",
              "      <th>3</th>\n",
              "      <td>Christopher Nolan</td>\n",
              "      <td>22000.0</td>\n",
              "    </tr>\n",
              "    <tr>\n",
              "      <th>4</th>\n",
              "      <td>Doug Walker</td>\n",
              "      <td>131.0</td>\n",
              "    </tr>\n",
              "  </tbody>\n",
              "</table>\n",
              "</div>"
            ],
            "text/plain": [
              "       director_name  director_facebook_likes\n",
              "0      James Cameron                      0.0\n",
              "1     Gore Verbinski                    563.0\n",
              "2         Sam Mendes                      0.0\n",
              "3  Christopher Nolan                  22000.0\n",
              "4        Doug Walker                    131.0"
            ]
          },
          "metadata": {},
          "execution_count": 823
        }
      ]
    },
    {
      "cell_type": "markdown",
      "metadata": {
        "id": "gmi4vM8gDExa"
      },
      "source": [
        "Combining dataframes"
      ]
    },
    {
      "cell_type": "code",
      "metadata": {
        "colab": {
          "base_uri": "https://localhost:8080/",
          "height": 689
        },
        "id": "CJOK8hE9C7j3",
        "outputId": "e2b56f15-2939-45c2-b74f-708772bb14d3"
      },
      "source": [
        "temp = pd.concat([movie_df, director_df], axis=1)\n",
        "temp = pd.concat([temp, actor_df], axis=1)\n",
        "temp"
      ],
      "execution_count": 824,
      "outputs": [
        {
          "output_type": "execute_result",
          "data": {
            "text/html": [
              "<div>\n",
              "<style scoped>\n",
              "    .dataframe tbody tr th:only-of-type {\n",
              "        vertical-align: middle;\n",
              "    }\n",
              "\n",
              "    .dataframe tbody tr th {\n",
              "        vertical-align: top;\n",
              "    }\n",
              "\n",
              "    .dataframe thead th {\n",
              "        text-align: right;\n",
              "    }\n",
              "</style>\n",
              "<table border=\"1\" class=\"dataframe\">\n",
              "  <thead>\n",
              "    <tr style=\"text-align: right;\">\n",
              "      <th></th>\n",
              "      <th>color</th>\n",
              "      <th>director_name</th>\n",
              "      <th>num_critic_for_reviews</th>\n",
              "      <th>duration</th>\n",
              "      <th>actor_2_name</th>\n",
              "      <th>gross</th>\n",
              "      <th>genres</th>\n",
              "      <th>actor_1_name</th>\n",
              "      <th>movie_title</th>\n",
              "      <th>num_voted_users</th>\n",
              "      <th>cast_total_facebook_likes</th>\n",
              "      <th>facenumber_in_poster</th>\n",
              "      <th>plot_keywords</th>\n",
              "      <th>movie_imdb_link</th>\n",
              "      <th>num_user_for_reviews</th>\n",
              "      <th>language</th>\n",
              "      <th>country</th>\n",
              "      <th>content_rating</th>\n",
              "      <th>budget</th>\n",
              "      <th>title_year</th>\n",
              "      <th>imdb_score</th>\n",
              "      <th>aspect_ratio</th>\n",
              "      <th>movie_facebook_likes</th>\n",
              "      <th>director_name</th>\n",
              "      <th>director_facebook_likes</th>\n",
              "      <th>actor_1_name</th>\n",
              "      <th>actor_2_name</th>\n",
              "      <th>actor_1_facebook_likes</th>\n",
              "      <th>actor_2_facebook_likes</th>\n",
              "    </tr>\n",
              "  </thead>\n",
              "  <tbody>\n",
              "    <tr>\n",
              "      <th>0</th>\n",
              "      <td>Color</td>\n",
              "      <td>James Cameron</td>\n",
              "      <td>723.0</td>\n",
              "      <td>178.0</td>\n",
              "      <td>Joel David Moore</td>\n",
              "      <td>760505847.0</td>\n",
              "      <td>Action|Adventure|Fantasy|Sci-Fi</td>\n",
              "      <td>CCH Pounder</td>\n",
              "      <td>Avatar</td>\n",
              "      <td>886204</td>\n",
              "      <td>4834</td>\n",
              "      <td>0.0</td>\n",
              "      <td>avatar|future|marine|native|paraplegic</td>\n",
              "      <td>http://www.imdb.com/title/tt0499549/?ref_=fn_t...</td>\n",
              "      <td>3054.0</td>\n",
              "      <td>English</td>\n",
              "      <td>USA</td>\n",
              "      <td>PG-13</td>\n",
              "      <td>237000000.0</td>\n",
              "      <td>2009.0</td>\n",
              "      <td>7.9</td>\n",
              "      <td>1.78</td>\n",
              "      <td>33000</td>\n",
              "      <td>James Cameron</td>\n",
              "      <td>0.0</td>\n",
              "      <td>CCH Pounder</td>\n",
              "      <td>Joel David Moore</td>\n",
              "      <td>1000.0</td>\n",
              "      <td>936.0</td>\n",
              "    </tr>\n",
              "    <tr>\n",
              "      <th>1</th>\n",
              "      <td>Color</td>\n",
              "      <td>Gore Verbinski</td>\n",
              "      <td>302.0</td>\n",
              "      <td>169.0</td>\n",
              "      <td>Orlando Bloom</td>\n",
              "      <td>309404152.0</td>\n",
              "      <td>Action|Adventure|Fantasy</td>\n",
              "      <td>Johnny Depp</td>\n",
              "      <td>Pirates of the Caribbean: At World's End</td>\n",
              "      <td>471220</td>\n",
              "      <td>48350</td>\n",
              "      <td>0.0</td>\n",
              "      <td>goddess|marriage ceremony|marriage proposal|pi...</td>\n",
              "      <td>http://www.imdb.com/title/tt0449088/?ref_=fn_t...</td>\n",
              "      <td>1238.0</td>\n",
              "      <td>English</td>\n",
              "      <td>USA</td>\n",
              "      <td>PG-13</td>\n",
              "      <td>300000000.0</td>\n",
              "      <td>2007.0</td>\n",
              "      <td>7.1</td>\n",
              "      <td>2.35</td>\n",
              "      <td>0</td>\n",
              "      <td>Gore Verbinski</td>\n",
              "      <td>563.0</td>\n",
              "      <td>Johnny Depp</td>\n",
              "      <td>Orlando Bloom</td>\n",
              "      <td>40000.0</td>\n",
              "      <td>5000.0</td>\n",
              "    </tr>\n",
              "    <tr>\n",
              "      <th>2</th>\n",
              "      <td>Color</td>\n",
              "      <td>Sam Mendes</td>\n",
              "      <td>602.0</td>\n",
              "      <td>148.0</td>\n",
              "      <td>Rory Kinnear</td>\n",
              "      <td>200074175.0</td>\n",
              "      <td>Action|Adventure|Thriller</td>\n",
              "      <td>Christoph Waltz</td>\n",
              "      <td>Spectre</td>\n",
              "      <td>275868</td>\n",
              "      <td>11700</td>\n",
              "      <td>1.0</td>\n",
              "      <td>bomb|espionage|sequel|spy|terrorist</td>\n",
              "      <td>http://www.imdb.com/title/tt2379713/?ref_=fn_t...</td>\n",
              "      <td>994.0</td>\n",
              "      <td>English</td>\n",
              "      <td>UK</td>\n",
              "      <td>PG-13</td>\n",
              "      <td>245000000.0</td>\n",
              "      <td>2015.0</td>\n",
              "      <td>6.8</td>\n",
              "      <td>2.35</td>\n",
              "      <td>85000</td>\n",
              "      <td>Sam Mendes</td>\n",
              "      <td>0.0</td>\n",
              "      <td>Christoph Waltz</td>\n",
              "      <td>Rory Kinnear</td>\n",
              "      <td>11000.0</td>\n",
              "      <td>393.0</td>\n",
              "    </tr>\n",
              "    <tr>\n",
              "      <th>3</th>\n",
              "      <td>Color</td>\n",
              "      <td>Christopher Nolan</td>\n",
              "      <td>813.0</td>\n",
              "      <td>164.0</td>\n",
              "      <td>Christian Bale</td>\n",
              "      <td>448130642.0</td>\n",
              "      <td>Action|Thriller</td>\n",
              "      <td>Tom Hardy</td>\n",
              "      <td>The Dark Knight Rises</td>\n",
              "      <td>1144337</td>\n",
              "      <td>106759</td>\n",
              "      <td>0.0</td>\n",
              "      <td>deception|imprisonment|lawlessness|police offi...</td>\n",
              "      <td>http://www.imdb.com/title/tt1345836/?ref_=fn_t...</td>\n",
              "      <td>2701.0</td>\n",
              "      <td>English</td>\n",
              "      <td>USA</td>\n",
              "      <td>PG-13</td>\n",
              "      <td>250000000.0</td>\n",
              "      <td>2012.0</td>\n",
              "      <td>8.5</td>\n",
              "      <td>2.35</td>\n",
              "      <td>164000</td>\n",
              "      <td>Christopher Nolan</td>\n",
              "      <td>22000.0</td>\n",
              "      <td>Tom Hardy</td>\n",
              "      <td>Christian Bale</td>\n",
              "      <td>27000.0</td>\n",
              "      <td>23000.0</td>\n",
              "    </tr>\n",
              "    <tr>\n",
              "      <th>4</th>\n",
              "      <td>NaN</td>\n",
              "      <td>Doug Walker</td>\n",
              "      <td>NaN</td>\n",
              "      <td>NaN</td>\n",
              "      <td>Rob Walker</td>\n",
              "      <td>NaN</td>\n",
              "      <td>Documentary</td>\n",
              "      <td>Doug Walker</td>\n",
              "      <td>Star Wars: Episode VII - The Force Awakens    ...</td>\n",
              "      <td>8</td>\n",
              "      <td>143</td>\n",
              "      <td>0.0</td>\n",
              "      <td>NaN</td>\n",
              "      <td>http://www.imdb.com/title/tt5289954/?ref_=fn_t...</td>\n",
              "      <td>NaN</td>\n",
              "      <td>NaN</td>\n",
              "      <td>NaN</td>\n",
              "      <td>NaN</td>\n",
              "      <td>NaN</td>\n",
              "      <td>NaN</td>\n",
              "      <td>7.1</td>\n",
              "      <td>NaN</td>\n",
              "      <td>0</td>\n",
              "      <td>Doug Walker</td>\n",
              "      <td>131.0</td>\n",
              "      <td>Doug Walker</td>\n",
              "      <td>Rob Walker</td>\n",
              "      <td>131.0</td>\n",
              "      <td>12.0</td>\n",
              "    </tr>\n",
              "    <tr>\n",
              "      <th>...</th>\n",
              "      <td>...</td>\n",
              "      <td>...</td>\n",
              "      <td>...</td>\n",
              "      <td>...</td>\n",
              "      <td>...</td>\n",
              "      <td>...</td>\n",
              "      <td>...</td>\n",
              "      <td>...</td>\n",
              "      <td>...</td>\n",
              "      <td>...</td>\n",
              "      <td>...</td>\n",
              "      <td>...</td>\n",
              "      <td>...</td>\n",
              "      <td>...</td>\n",
              "      <td>...</td>\n",
              "      <td>...</td>\n",
              "      <td>...</td>\n",
              "      <td>...</td>\n",
              "      <td>...</td>\n",
              "      <td>...</td>\n",
              "      <td>...</td>\n",
              "      <td>...</td>\n",
              "      <td>...</td>\n",
              "      <td>...</td>\n",
              "      <td>...</td>\n",
              "      <td>...</td>\n",
              "      <td>...</td>\n",
              "      <td>...</td>\n",
              "      <td>...</td>\n",
              "    </tr>\n",
              "    <tr>\n",
              "      <th>5038</th>\n",
              "      <td>Color</td>\n",
              "      <td>Scott Smith</td>\n",
              "      <td>1.0</td>\n",
              "      <td>87.0</td>\n",
              "      <td>Daphne Zuniga</td>\n",
              "      <td>NaN</td>\n",
              "      <td>Comedy|Drama</td>\n",
              "      <td>Eric Mabius</td>\n",
              "      <td>Signed Sealed Delivered</td>\n",
              "      <td>629</td>\n",
              "      <td>2283</td>\n",
              "      <td>2.0</td>\n",
              "      <td>fraud|postal worker|prison|theft|trial</td>\n",
              "      <td>http://www.imdb.com/title/tt3000844/?ref_=fn_t...</td>\n",
              "      <td>6.0</td>\n",
              "      <td>English</td>\n",
              "      <td>Canada</td>\n",
              "      <td>NaN</td>\n",
              "      <td>NaN</td>\n",
              "      <td>2013.0</td>\n",
              "      <td>7.7</td>\n",
              "      <td>NaN</td>\n",
              "      <td>84</td>\n",
              "      <td>Scott Smith</td>\n",
              "      <td>2.0</td>\n",
              "      <td>Eric Mabius</td>\n",
              "      <td>Daphne Zuniga</td>\n",
              "      <td>637.0</td>\n",
              "      <td>470.0</td>\n",
              "    </tr>\n",
              "    <tr>\n",
              "      <th>5039</th>\n",
              "      <td>Color</td>\n",
              "      <td>NaN</td>\n",
              "      <td>43.0</td>\n",
              "      <td>43.0</td>\n",
              "      <td>Valorie Curry</td>\n",
              "      <td>NaN</td>\n",
              "      <td>Crime|Drama|Mystery|Thriller</td>\n",
              "      <td>Natalie Zea</td>\n",
              "      <td>The Following</td>\n",
              "      <td>73839</td>\n",
              "      <td>1753</td>\n",
              "      <td>1.0</td>\n",
              "      <td>cult|fbi|hideout|prison escape|serial killer</td>\n",
              "      <td>http://www.imdb.com/title/tt2071645/?ref_=fn_t...</td>\n",
              "      <td>359.0</td>\n",
              "      <td>English</td>\n",
              "      <td>USA</td>\n",
              "      <td>TV-14</td>\n",
              "      <td>NaN</td>\n",
              "      <td>NaN</td>\n",
              "      <td>7.5</td>\n",
              "      <td>16.00</td>\n",
              "      <td>32000</td>\n",
              "      <td>NaN</td>\n",
              "      <td>NaN</td>\n",
              "      <td>Natalie Zea</td>\n",
              "      <td>Valorie Curry</td>\n",
              "      <td>841.0</td>\n",
              "      <td>593.0</td>\n",
              "    </tr>\n",
              "    <tr>\n",
              "      <th>5040</th>\n",
              "      <td>Color</td>\n",
              "      <td>Benjamin Roberds</td>\n",
              "      <td>13.0</td>\n",
              "      <td>76.0</td>\n",
              "      <td>Maxwell Moody</td>\n",
              "      <td>NaN</td>\n",
              "      <td>Drama|Horror|Thriller</td>\n",
              "      <td>Eva Boehnke</td>\n",
              "      <td>A Plague So Pleasant</td>\n",
              "      <td>38</td>\n",
              "      <td>0</td>\n",
              "      <td>0.0</td>\n",
              "      <td>NaN</td>\n",
              "      <td>http://www.imdb.com/title/tt2107644/?ref_=fn_t...</td>\n",
              "      <td>3.0</td>\n",
              "      <td>English</td>\n",
              "      <td>USA</td>\n",
              "      <td>NaN</td>\n",
              "      <td>1400.0</td>\n",
              "      <td>2013.0</td>\n",
              "      <td>6.3</td>\n",
              "      <td>NaN</td>\n",
              "      <td>16</td>\n",
              "      <td>Benjamin Roberds</td>\n",
              "      <td>0.0</td>\n",
              "      <td>Eva Boehnke</td>\n",
              "      <td>Maxwell Moody</td>\n",
              "      <td>0.0</td>\n",
              "      <td>0.0</td>\n",
              "    </tr>\n",
              "    <tr>\n",
              "      <th>5041</th>\n",
              "      <td>Color</td>\n",
              "      <td>Daniel Hsia</td>\n",
              "      <td>14.0</td>\n",
              "      <td>100.0</td>\n",
              "      <td>Daniel Henney</td>\n",
              "      <td>10443.0</td>\n",
              "      <td>Comedy|Drama|Romance</td>\n",
              "      <td>Alan Ruck</td>\n",
              "      <td>Shanghai Calling</td>\n",
              "      <td>1255</td>\n",
              "      <td>2386</td>\n",
              "      <td>5.0</td>\n",
              "      <td>NaN</td>\n",
              "      <td>http://www.imdb.com/title/tt2070597/?ref_=fn_t...</td>\n",
              "      <td>9.0</td>\n",
              "      <td>English</td>\n",
              "      <td>USA</td>\n",
              "      <td>PG-13</td>\n",
              "      <td>NaN</td>\n",
              "      <td>2012.0</td>\n",
              "      <td>6.3</td>\n",
              "      <td>2.35</td>\n",
              "      <td>660</td>\n",
              "      <td>Daniel Hsia</td>\n",
              "      <td>0.0</td>\n",
              "      <td>Alan Ruck</td>\n",
              "      <td>Daniel Henney</td>\n",
              "      <td>946.0</td>\n",
              "      <td>719.0</td>\n",
              "    </tr>\n",
              "    <tr>\n",
              "      <th>5042</th>\n",
              "      <td>Color</td>\n",
              "      <td>Jon Gunn</td>\n",
              "      <td>43.0</td>\n",
              "      <td>90.0</td>\n",
              "      <td>Brian Herzlinger</td>\n",
              "      <td>85222.0</td>\n",
              "      <td>Documentary</td>\n",
              "      <td>John August</td>\n",
              "      <td>My Date with Drew</td>\n",
              "      <td>4285</td>\n",
              "      <td>163</td>\n",
              "      <td>0.0</td>\n",
              "      <td>actress name in title|crush|date|four word tit...</td>\n",
              "      <td>http://www.imdb.com/title/tt0378407/?ref_=fn_t...</td>\n",
              "      <td>84.0</td>\n",
              "      <td>English</td>\n",
              "      <td>USA</td>\n",
              "      <td>PG</td>\n",
              "      <td>1100.0</td>\n",
              "      <td>2004.0</td>\n",
              "      <td>6.6</td>\n",
              "      <td>1.85</td>\n",
              "      <td>456</td>\n",
              "      <td>Jon Gunn</td>\n",
              "      <td>16.0</td>\n",
              "      <td>John August</td>\n",
              "      <td>Brian Herzlinger</td>\n",
              "      <td>86.0</td>\n",
              "      <td>23.0</td>\n",
              "    </tr>\n",
              "  </tbody>\n",
              "</table>\n",
              "<p>5043 rows × 29 columns</p>\n",
              "</div>"
            ],
            "text/plain": [
              "      color      director_name  ...  actor_1_facebook_likes  actor_2_facebook_likes\n",
              "0     Color      James Cameron  ...                  1000.0                   936.0\n",
              "1     Color     Gore Verbinski  ...                 40000.0                  5000.0\n",
              "2     Color         Sam Mendes  ...                 11000.0                   393.0\n",
              "3     Color  Christopher Nolan  ...                 27000.0                 23000.0\n",
              "4       NaN        Doug Walker  ...                   131.0                    12.0\n",
              "...     ...                ...  ...                     ...                     ...\n",
              "5038  Color        Scott Smith  ...                   637.0                   470.0\n",
              "5039  Color                NaN  ...                   841.0                   593.0\n",
              "5040  Color   Benjamin Roberds  ...                     0.0                     0.0\n",
              "5041  Color        Daniel Hsia  ...                   946.0                   719.0\n",
              "5042  Color           Jon Gunn  ...                    86.0                    23.0\n",
              "\n",
              "[5043 rows x 29 columns]"
            ]
          },
          "metadata": {},
          "execution_count": 824
        }
      ]
    },
    {
      "cell_type": "code",
      "metadata": {
        "id": "rK_l1aUsE2fA"
      },
      "source": [
        "df = temp.loc[:,~temp.columns.duplicated()]"
      ],
      "execution_count": 825,
      "outputs": []
    },
    {
      "cell_type": "markdown",
      "metadata": {
        "id": "NoKQ9YzrF83L"
      },
      "source": [
        "## Data preprocessing"
      ]
    },
    {
      "cell_type": "code",
      "metadata": {
        "colab": {
          "base_uri": "https://localhost:8080/"
        },
        "id": "DA0kawNeF-iI",
        "outputId": "1def6563-9a3e-421f-81da-b0b97764f4a5"
      },
      "source": [
        "df.dtypes"
      ],
      "execution_count": 826,
      "outputs": [
        {
          "output_type": "execute_result",
          "data": {
            "text/plain": [
              "color                         object\n",
              "director_name                 object\n",
              "num_critic_for_reviews       float64\n",
              "duration                     float64\n",
              "actor_2_name                  object\n",
              "gross                        float64\n",
              "genres                        object\n",
              "actor_1_name                  object\n",
              "movie_title                   object\n",
              "num_voted_users                int64\n",
              "cast_total_facebook_likes      int64\n",
              "facenumber_in_poster         float64\n",
              "plot_keywords                 object\n",
              "movie_imdb_link               object\n",
              "num_user_for_reviews         float64\n",
              "language                      object\n",
              "country                       object\n",
              "content_rating                object\n",
              "budget                       float64\n",
              "title_year                   float64\n",
              "imdb_score                   float64\n",
              "aspect_ratio                 float64\n",
              "movie_facebook_likes           int64\n",
              "director_facebook_likes      float64\n",
              "actor_1_facebook_likes       float64\n",
              "actor_2_facebook_likes       float64\n",
              "dtype: object"
            ]
          },
          "metadata": {},
          "execution_count": 826
        }
      ]
    },
    {
      "cell_type": "code",
      "metadata": {
        "colab": {
          "base_uri": "https://localhost:8080/",
          "height": 315
        },
        "id": "6oLDBp4TGM6U",
        "outputId": "6cf95db7-83a3-44fb-8b65-6bb23a142884"
      },
      "source": [
        "df.describe()"
      ],
      "execution_count": 827,
      "outputs": [
        {
          "output_type": "execute_result",
          "data": {
            "text/html": [
              "<div>\n",
              "<style scoped>\n",
              "    .dataframe tbody tr th:only-of-type {\n",
              "        vertical-align: middle;\n",
              "    }\n",
              "\n",
              "    .dataframe tbody tr th {\n",
              "        vertical-align: top;\n",
              "    }\n",
              "\n",
              "    .dataframe thead th {\n",
              "        text-align: right;\n",
              "    }\n",
              "</style>\n",
              "<table border=\"1\" class=\"dataframe\">\n",
              "  <thead>\n",
              "    <tr style=\"text-align: right;\">\n",
              "      <th></th>\n",
              "      <th>num_critic_for_reviews</th>\n",
              "      <th>duration</th>\n",
              "      <th>gross</th>\n",
              "      <th>num_voted_users</th>\n",
              "      <th>cast_total_facebook_likes</th>\n",
              "      <th>facenumber_in_poster</th>\n",
              "      <th>num_user_for_reviews</th>\n",
              "      <th>budget</th>\n",
              "      <th>title_year</th>\n",
              "      <th>imdb_score</th>\n",
              "      <th>aspect_ratio</th>\n",
              "      <th>movie_facebook_likes</th>\n",
              "      <th>director_facebook_likes</th>\n",
              "      <th>actor_1_facebook_likes</th>\n",
              "      <th>actor_2_facebook_likes</th>\n",
              "    </tr>\n",
              "  </thead>\n",
              "  <tbody>\n",
              "    <tr>\n",
              "      <th>count</th>\n",
              "      <td>4993.000000</td>\n",
              "      <td>5028.000000</td>\n",
              "      <td>4.159000e+03</td>\n",
              "      <td>5.043000e+03</td>\n",
              "      <td>5043.000000</td>\n",
              "      <td>5030.000000</td>\n",
              "      <td>5022.000000</td>\n",
              "      <td>4.551000e+03</td>\n",
              "      <td>4935.000000</td>\n",
              "      <td>5043.000000</td>\n",
              "      <td>4714.000000</td>\n",
              "      <td>5043.000000</td>\n",
              "      <td>4939.000000</td>\n",
              "      <td>5036.000000</td>\n",
              "      <td>5030.000000</td>\n",
              "    </tr>\n",
              "    <tr>\n",
              "      <th>mean</th>\n",
              "      <td>140.194272</td>\n",
              "      <td>107.201074</td>\n",
              "      <td>4.846841e+07</td>\n",
              "      <td>8.366816e+04</td>\n",
              "      <td>9699.063851</td>\n",
              "      <td>1.371173</td>\n",
              "      <td>272.770808</td>\n",
              "      <td>3.975262e+07</td>\n",
              "      <td>2002.470517</td>\n",
              "      <td>6.442138</td>\n",
              "      <td>2.220403</td>\n",
              "      <td>7525.964505</td>\n",
              "      <td>686.509212</td>\n",
              "      <td>6560.047061</td>\n",
              "      <td>1651.754473</td>\n",
              "    </tr>\n",
              "    <tr>\n",
              "      <th>std</th>\n",
              "      <td>121.601675</td>\n",
              "      <td>25.197441</td>\n",
              "      <td>6.845299e+07</td>\n",
              "      <td>1.384853e+05</td>\n",
              "      <td>18163.799124</td>\n",
              "      <td>2.013576</td>\n",
              "      <td>377.982886</td>\n",
              "      <td>2.061149e+08</td>\n",
              "      <td>12.474599</td>\n",
              "      <td>1.125116</td>\n",
              "      <td>1.385113</td>\n",
              "      <td>19320.445110</td>\n",
              "      <td>2813.328607</td>\n",
              "      <td>15020.759120</td>\n",
              "      <td>4042.438863</td>\n",
              "    </tr>\n",
              "    <tr>\n",
              "      <th>min</th>\n",
              "      <td>1.000000</td>\n",
              "      <td>7.000000</td>\n",
              "      <td>1.620000e+02</td>\n",
              "      <td>5.000000e+00</td>\n",
              "      <td>0.000000</td>\n",
              "      <td>0.000000</td>\n",
              "      <td>1.000000</td>\n",
              "      <td>2.180000e+02</td>\n",
              "      <td>1916.000000</td>\n",
              "      <td>1.600000</td>\n",
              "      <td>1.180000</td>\n",
              "      <td>0.000000</td>\n",
              "      <td>0.000000</td>\n",
              "      <td>0.000000</td>\n",
              "      <td>0.000000</td>\n",
              "    </tr>\n",
              "    <tr>\n",
              "      <th>25%</th>\n",
              "      <td>50.000000</td>\n",
              "      <td>93.000000</td>\n",
              "      <td>5.340988e+06</td>\n",
              "      <td>8.593500e+03</td>\n",
              "      <td>1411.000000</td>\n",
              "      <td>0.000000</td>\n",
              "      <td>65.000000</td>\n",
              "      <td>6.000000e+06</td>\n",
              "      <td>1999.000000</td>\n",
              "      <td>5.800000</td>\n",
              "      <td>1.850000</td>\n",
              "      <td>0.000000</td>\n",
              "      <td>7.000000</td>\n",
              "      <td>614.000000</td>\n",
              "      <td>281.000000</td>\n",
              "    </tr>\n",
              "    <tr>\n",
              "      <th>50%</th>\n",
              "      <td>110.000000</td>\n",
              "      <td>103.000000</td>\n",
              "      <td>2.551750e+07</td>\n",
              "      <td>3.435900e+04</td>\n",
              "      <td>3090.000000</td>\n",
              "      <td>1.000000</td>\n",
              "      <td>156.000000</td>\n",
              "      <td>2.000000e+07</td>\n",
              "      <td>2005.000000</td>\n",
              "      <td>6.600000</td>\n",
              "      <td>2.350000</td>\n",
              "      <td>166.000000</td>\n",
              "      <td>49.000000</td>\n",
              "      <td>988.000000</td>\n",
              "      <td>595.000000</td>\n",
              "    </tr>\n",
              "    <tr>\n",
              "      <th>75%</th>\n",
              "      <td>195.000000</td>\n",
              "      <td>118.000000</td>\n",
              "      <td>6.230944e+07</td>\n",
              "      <td>9.630900e+04</td>\n",
              "      <td>13756.500000</td>\n",
              "      <td>2.000000</td>\n",
              "      <td>326.000000</td>\n",
              "      <td>4.500000e+07</td>\n",
              "      <td>2011.000000</td>\n",
              "      <td>7.200000</td>\n",
              "      <td>2.350000</td>\n",
              "      <td>3000.000000</td>\n",
              "      <td>194.500000</td>\n",
              "      <td>11000.000000</td>\n",
              "      <td>918.000000</td>\n",
              "    </tr>\n",
              "    <tr>\n",
              "      <th>max</th>\n",
              "      <td>813.000000</td>\n",
              "      <td>511.000000</td>\n",
              "      <td>7.605058e+08</td>\n",
              "      <td>1.689764e+06</td>\n",
              "      <td>656730.000000</td>\n",
              "      <td>43.000000</td>\n",
              "      <td>5060.000000</td>\n",
              "      <td>1.221550e+10</td>\n",
              "      <td>2016.000000</td>\n",
              "      <td>9.500000</td>\n",
              "      <td>16.000000</td>\n",
              "      <td>349000.000000</td>\n",
              "      <td>23000.000000</td>\n",
              "      <td>640000.000000</td>\n",
              "      <td>137000.000000</td>\n",
              "    </tr>\n",
              "  </tbody>\n",
              "</table>\n",
              "</div>"
            ],
            "text/plain": [
              "       num_critic_for_reviews  ...  actor_2_facebook_likes\n",
              "count             4993.000000  ...             5030.000000\n",
              "mean               140.194272  ...             1651.754473\n",
              "std                121.601675  ...             4042.438863\n",
              "min                  1.000000  ...                0.000000\n",
              "25%                 50.000000  ...              281.000000\n",
              "50%                110.000000  ...              595.000000\n",
              "75%                195.000000  ...              918.000000\n",
              "max                813.000000  ...           137000.000000\n",
              "\n",
              "[8 rows x 15 columns]"
            ]
          },
          "metadata": {},
          "execution_count": 827
        }
      ]
    },
    {
      "cell_type": "markdown",
      "metadata": {
        "id": "JtUw7z5DHOBW"
      },
      "source": [
        "Processing the genre field"
      ]
    },
    {
      "cell_type": "code",
      "metadata": {
        "id": "-jEfTtoOHScB"
      },
      "source": [
        "genres = df['genres'].str.split('|', expand=True)\n",
        "df['genre'] = genres[0]"
      ],
      "execution_count": 828,
      "outputs": []
    },
    {
      "cell_type": "code",
      "metadata": {
        "colab": {
          "base_uri": "https://localhost:8080/"
        },
        "id": "cbwA9iEQGPnC",
        "outputId": "952a8abe-7f7c-44f0-9503-dcfc17e4e758"
      },
      "source": [
        "df.info()"
      ],
      "execution_count": 829,
      "outputs": [
        {
          "output_type": "stream",
          "name": "stdout",
          "text": [
            "<class 'pandas.core.frame.DataFrame'>\n",
            "RangeIndex: 5043 entries, 0 to 5042\n",
            "Data columns (total 27 columns):\n",
            " #   Column                     Non-Null Count  Dtype  \n",
            "---  ------                     --------------  -----  \n",
            " 0   color                      5024 non-null   object \n",
            " 1   director_name              4939 non-null   object \n",
            " 2   num_critic_for_reviews     4993 non-null   float64\n",
            " 3   duration                   5028 non-null   float64\n",
            " 4   actor_2_name               5030 non-null   object \n",
            " 5   gross                      4159 non-null   float64\n",
            " 6   genres                     5043 non-null   object \n",
            " 7   actor_1_name               5036 non-null   object \n",
            " 8   movie_title                5043 non-null   object \n",
            " 9   num_voted_users            5043 non-null   int64  \n",
            " 10  cast_total_facebook_likes  5043 non-null   int64  \n",
            " 11  facenumber_in_poster       5030 non-null   float64\n",
            " 12  plot_keywords              4890 non-null   object \n",
            " 13  movie_imdb_link            5043 non-null   object \n",
            " 14  num_user_for_reviews       5022 non-null   float64\n",
            " 15  language                   5031 non-null   object \n",
            " 16  country                    5038 non-null   object \n",
            " 17  content_rating             4740 non-null   object \n",
            " 18  budget                     4551 non-null   float64\n",
            " 19  title_year                 4935 non-null   float64\n",
            " 20  imdb_score                 5043 non-null   float64\n",
            " 21  aspect_ratio               4714 non-null   float64\n",
            " 22  movie_facebook_likes       5043 non-null   int64  \n",
            " 23  director_facebook_likes    4939 non-null   float64\n",
            " 24  actor_1_facebook_likes     5036 non-null   float64\n",
            " 25  actor_2_facebook_likes     5030 non-null   float64\n",
            " 26  genre                      5043 non-null   object \n",
            "dtypes: float64(12), int64(3), object(12)\n",
            "memory usage: 1.0+ MB\n"
          ]
        }
      ]
    },
    {
      "cell_type": "markdown",
      "metadata": {
        "id": "vJoG5InRIixq"
      },
      "source": [
        "## Dropping unnecessary columns\n",
        "\n",
        "- title_year\n",
        "- movie_imdb_link\n",
        "- genres\n",
        "- plot_keywords\n",
        "- color\n",
        "- director_name\n",
        "- actor_1_name\n",
        "- actor_2_name\n",
        "\n",
        "Director and actor names are dropped. Only their facebook_likes are required\n"
      ]
    },
    {
      "cell_type": "code",
      "metadata": {
        "id": "KhghZhIZICnR"
      },
      "source": [
        "df = df.drop(['title_year', 'movie_imdb_link', 'genres', 'plot_keywords'], axis=1)"
      ],
      "execution_count": 830,
      "outputs": []
    },
    {
      "cell_type": "markdown",
      "metadata": {
        "id": "P5qN6sPsLnIv"
      },
      "source": [
        "Dealing with NULL Values"
      ]
    },
    {
      "cell_type": "code",
      "metadata": {
        "colab": {
          "base_uri": "https://localhost:8080/"
        },
        "id": "DFdvR771KgLM",
        "outputId": "30b08bd5-8a1f-432f-b138-d51c2756c511"
      },
      "source": [
        "df.isna().sum()"
      ],
      "execution_count": 831,
      "outputs": [
        {
          "output_type": "execute_result",
          "data": {
            "text/plain": [
              "color                         19\n",
              "director_name                104\n",
              "num_critic_for_reviews        50\n",
              "duration                      15\n",
              "actor_2_name                  13\n",
              "gross                        884\n",
              "actor_1_name                   7\n",
              "movie_title                    0\n",
              "num_voted_users                0\n",
              "cast_total_facebook_likes      0\n",
              "facenumber_in_poster          13\n",
              "num_user_for_reviews          21\n",
              "language                      12\n",
              "country                        5\n",
              "content_rating               303\n",
              "budget                       492\n",
              "imdb_score                     0\n",
              "aspect_ratio                 329\n",
              "movie_facebook_likes           0\n",
              "director_facebook_likes      104\n",
              "actor_1_facebook_likes         7\n",
              "actor_2_facebook_likes        13\n",
              "genre                          0\n",
              "dtype: int64"
            ]
          },
          "metadata": {},
          "execution_count": 831
        }
      ]
    },
    {
      "cell_type": "code",
      "metadata": {
        "colab": {
          "base_uri": "https://localhost:8080/"
        },
        "id": "ILUxFbTyLqGW",
        "outputId": "bc29dc6d-101f-430f-f2ee-8ef6658923bd"
      },
      "source": [
        "# Percentage of NULL values\n",
        "df.isna().sum()*100/len(df)"
      ],
      "execution_count": 832,
      "outputs": [
        {
          "output_type": "execute_result",
          "data": {
            "text/plain": [
              "color                         0.376760\n",
              "director_name                 2.062265\n",
              "num_critic_for_reviews        0.991473\n",
              "duration                      0.297442\n",
              "actor_2_name                  0.257783\n",
              "gross                        17.529248\n",
              "actor_1_name                  0.138806\n",
              "movie_title                   0.000000\n",
              "num_voted_users               0.000000\n",
              "cast_total_facebook_likes     0.000000\n",
              "facenumber_in_poster          0.257783\n",
              "num_user_for_reviews          0.416419\n",
              "language                      0.237954\n",
              "country                       0.099147\n",
              "content_rating                6.008328\n",
              "budget                        9.756098\n",
              "imdb_score                    0.000000\n",
              "aspect_ratio                  6.523895\n",
              "movie_facebook_likes          0.000000\n",
              "director_facebook_likes       2.062265\n",
              "actor_1_facebook_likes        0.138806\n",
              "actor_2_facebook_likes        0.257783\n",
              "genre                         0.000000\n",
              "dtype: float64"
            ]
          },
          "metadata": {},
          "execution_count": 832
        }
      ]
    },
    {
      "cell_type": "code",
      "metadata": {
        "colab": {
          "base_uri": "https://localhost:8080/",
          "height": 341
        },
        "id": "1YrPhYA6Lxnc",
        "outputId": "6c06051d-c06f-4803-fecc-c92ac460a1c4"
      },
      "source": [
        "df.dropna(subset=['num_critic_for_reviews','duration','director_facebook_likes','actor_1_facebook_likes','facenumber_in_poster','num_user_for_reviews','language','country','content_rating','budget','actor_2_facebook_likes','aspect_ratio'],axis=0,inplace=True)\n",
        "df.head()"
      ],
      "execution_count": 833,
      "outputs": [
        {
          "output_type": "execute_result",
          "data": {
            "text/html": [
              "<div>\n",
              "<style scoped>\n",
              "    .dataframe tbody tr th:only-of-type {\n",
              "        vertical-align: middle;\n",
              "    }\n",
              "\n",
              "    .dataframe tbody tr th {\n",
              "        vertical-align: top;\n",
              "    }\n",
              "\n",
              "    .dataframe thead th {\n",
              "        text-align: right;\n",
              "    }\n",
              "</style>\n",
              "<table border=\"1\" class=\"dataframe\">\n",
              "  <thead>\n",
              "    <tr style=\"text-align: right;\">\n",
              "      <th></th>\n",
              "      <th>color</th>\n",
              "      <th>director_name</th>\n",
              "      <th>num_critic_for_reviews</th>\n",
              "      <th>duration</th>\n",
              "      <th>actor_2_name</th>\n",
              "      <th>gross</th>\n",
              "      <th>actor_1_name</th>\n",
              "      <th>movie_title</th>\n",
              "      <th>num_voted_users</th>\n",
              "      <th>cast_total_facebook_likes</th>\n",
              "      <th>facenumber_in_poster</th>\n",
              "      <th>num_user_for_reviews</th>\n",
              "      <th>language</th>\n",
              "      <th>country</th>\n",
              "      <th>content_rating</th>\n",
              "      <th>budget</th>\n",
              "      <th>imdb_score</th>\n",
              "      <th>aspect_ratio</th>\n",
              "      <th>movie_facebook_likes</th>\n",
              "      <th>director_facebook_likes</th>\n",
              "      <th>actor_1_facebook_likes</th>\n",
              "      <th>actor_2_facebook_likes</th>\n",
              "      <th>genre</th>\n",
              "    </tr>\n",
              "  </thead>\n",
              "  <tbody>\n",
              "    <tr>\n",
              "      <th>0</th>\n",
              "      <td>Color</td>\n",
              "      <td>James Cameron</td>\n",
              "      <td>723.0</td>\n",
              "      <td>178.0</td>\n",
              "      <td>Joel David Moore</td>\n",
              "      <td>760505847.0</td>\n",
              "      <td>CCH Pounder</td>\n",
              "      <td>Avatar</td>\n",
              "      <td>886204</td>\n",
              "      <td>4834</td>\n",
              "      <td>0.0</td>\n",
              "      <td>3054.0</td>\n",
              "      <td>English</td>\n",
              "      <td>USA</td>\n",
              "      <td>PG-13</td>\n",
              "      <td>237000000.0</td>\n",
              "      <td>7.9</td>\n",
              "      <td>1.78</td>\n",
              "      <td>33000</td>\n",
              "      <td>0.0</td>\n",
              "      <td>1000.0</td>\n",
              "      <td>936.0</td>\n",
              "      <td>Action</td>\n",
              "    </tr>\n",
              "    <tr>\n",
              "      <th>1</th>\n",
              "      <td>Color</td>\n",
              "      <td>Gore Verbinski</td>\n",
              "      <td>302.0</td>\n",
              "      <td>169.0</td>\n",
              "      <td>Orlando Bloom</td>\n",
              "      <td>309404152.0</td>\n",
              "      <td>Johnny Depp</td>\n",
              "      <td>Pirates of the Caribbean: At World's End</td>\n",
              "      <td>471220</td>\n",
              "      <td>48350</td>\n",
              "      <td>0.0</td>\n",
              "      <td>1238.0</td>\n",
              "      <td>English</td>\n",
              "      <td>USA</td>\n",
              "      <td>PG-13</td>\n",
              "      <td>300000000.0</td>\n",
              "      <td>7.1</td>\n",
              "      <td>2.35</td>\n",
              "      <td>0</td>\n",
              "      <td>563.0</td>\n",
              "      <td>40000.0</td>\n",
              "      <td>5000.0</td>\n",
              "      <td>Action</td>\n",
              "    </tr>\n",
              "    <tr>\n",
              "      <th>2</th>\n",
              "      <td>Color</td>\n",
              "      <td>Sam Mendes</td>\n",
              "      <td>602.0</td>\n",
              "      <td>148.0</td>\n",
              "      <td>Rory Kinnear</td>\n",
              "      <td>200074175.0</td>\n",
              "      <td>Christoph Waltz</td>\n",
              "      <td>Spectre</td>\n",
              "      <td>275868</td>\n",
              "      <td>11700</td>\n",
              "      <td>1.0</td>\n",
              "      <td>994.0</td>\n",
              "      <td>English</td>\n",
              "      <td>UK</td>\n",
              "      <td>PG-13</td>\n",
              "      <td>245000000.0</td>\n",
              "      <td>6.8</td>\n",
              "      <td>2.35</td>\n",
              "      <td>85000</td>\n",
              "      <td>0.0</td>\n",
              "      <td>11000.0</td>\n",
              "      <td>393.0</td>\n",
              "      <td>Action</td>\n",
              "    </tr>\n",
              "    <tr>\n",
              "      <th>3</th>\n",
              "      <td>Color</td>\n",
              "      <td>Christopher Nolan</td>\n",
              "      <td>813.0</td>\n",
              "      <td>164.0</td>\n",
              "      <td>Christian Bale</td>\n",
              "      <td>448130642.0</td>\n",
              "      <td>Tom Hardy</td>\n",
              "      <td>The Dark Knight Rises</td>\n",
              "      <td>1144337</td>\n",
              "      <td>106759</td>\n",
              "      <td>0.0</td>\n",
              "      <td>2701.0</td>\n",
              "      <td>English</td>\n",
              "      <td>USA</td>\n",
              "      <td>PG-13</td>\n",
              "      <td>250000000.0</td>\n",
              "      <td>8.5</td>\n",
              "      <td>2.35</td>\n",
              "      <td>164000</td>\n",
              "      <td>22000.0</td>\n",
              "      <td>27000.0</td>\n",
              "      <td>23000.0</td>\n",
              "      <td>Action</td>\n",
              "    </tr>\n",
              "    <tr>\n",
              "      <th>5</th>\n",
              "      <td>Color</td>\n",
              "      <td>Andrew Stanton</td>\n",
              "      <td>462.0</td>\n",
              "      <td>132.0</td>\n",
              "      <td>Samantha Morton</td>\n",
              "      <td>73058679.0</td>\n",
              "      <td>Daryl Sabara</td>\n",
              "      <td>John Carter</td>\n",
              "      <td>212204</td>\n",
              "      <td>1873</td>\n",
              "      <td>1.0</td>\n",
              "      <td>738.0</td>\n",
              "      <td>English</td>\n",
              "      <td>USA</td>\n",
              "      <td>PG-13</td>\n",
              "      <td>263700000.0</td>\n",
              "      <td>6.6</td>\n",
              "      <td>2.35</td>\n",
              "      <td>24000</td>\n",
              "      <td>475.0</td>\n",
              "      <td>640.0</td>\n",
              "      <td>632.0</td>\n",
              "      <td>Action</td>\n",
              "    </tr>\n",
              "  </tbody>\n",
              "</table>\n",
              "</div>"
            ],
            "text/plain": [
              "   color      director_name  ...  actor_2_facebook_likes   genre\n",
              "0  Color      James Cameron  ...                   936.0  Action\n",
              "1  Color     Gore Verbinski  ...                  5000.0  Action\n",
              "2  Color         Sam Mendes  ...                   393.0  Action\n",
              "3  Color  Christopher Nolan  ...                 23000.0  Action\n",
              "5  Color     Andrew Stanton  ...                   632.0  Action\n",
              "\n",
              "[5 rows x 23 columns]"
            ]
          },
          "metadata": {},
          "execution_count": 833
        }
      ]
    },
    {
      "cell_type": "code",
      "metadata": {
        "colab": {
          "base_uri": "https://localhost:8080/"
        },
        "id": "VdWO8qXoMZiA",
        "outputId": "65705a38-5f3e-4990-fc2e-b3744897c5bd"
      },
      "source": [
        "len(df)"
      ],
      "execution_count": 834,
      "outputs": [
        {
          "output_type": "execute_result",
          "data": {
            "text/plain": [
              "4179"
            ]
          },
          "metadata": {},
          "execution_count": 834
        }
      ]
    },
    {
      "cell_type": "code",
      "metadata": {
        "colab": {
          "base_uri": "https://localhost:8080/"
        },
        "id": "eFoFfYYMMbMU",
        "outputId": "7913c1a9-9355-46be-d3f8-28d4c8f074b9"
      },
      "source": [
        "df.dropna(inplace=True)\n",
        "len(df)"
      ],
      "execution_count": 835,
      "outputs": [
        {
          "output_type": "execute_result",
          "data": {
            "text/plain": [
              "3774"
            ]
          },
          "metadata": {},
          "execution_count": 835
        }
      ]
    },
    {
      "cell_type": "code",
      "metadata": {
        "colab": {
          "base_uri": "https://localhost:8080/"
        },
        "id": "ehl0xx0WMi0z",
        "outputId": "68e78502-b69a-4473-bf9c-16d856ce81fa"
      },
      "source": [
        "df.isnull().sum()"
      ],
      "execution_count": 836,
      "outputs": [
        {
          "output_type": "execute_result",
          "data": {
            "text/plain": [
              "color                        0\n",
              "director_name                0\n",
              "num_critic_for_reviews       0\n",
              "duration                     0\n",
              "actor_2_name                 0\n",
              "gross                        0\n",
              "actor_1_name                 0\n",
              "movie_title                  0\n",
              "num_voted_users              0\n",
              "cast_total_facebook_likes    0\n",
              "facenumber_in_poster         0\n",
              "num_user_for_reviews         0\n",
              "language                     0\n",
              "country                      0\n",
              "content_rating               0\n",
              "budget                       0\n",
              "imdb_score                   0\n",
              "aspect_ratio                 0\n",
              "movie_facebook_likes         0\n",
              "director_facebook_likes      0\n",
              "actor_1_facebook_likes       0\n",
              "actor_2_facebook_likes       0\n",
              "genre                        0\n",
              "dtype: int64"
            ]
          },
          "metadata": {},
          "execution_count": 836
        }
      ]
    },
    {
      "cell_type": "markdown",
      "metadata": {
        "id": "mvO0BR73PKym"
      },
      "source": [
        "## Visualization"
      ]
    },
    {
      "cell_type": "code",
      "metadata": {
        "id": "Lt1lNfsNPFG-"
      },
      "source": [
        "font = {'family' : 'normal',\n",
        "        'weight' : 'regular',\n",
        "        'size'   : 18}\n",
        "\n",
        "matplotlib.rc('font', **font)"
      ],
      "execution_count": 837,
      "outputs": []
    },
    {
      "cell_type": "code",
      "metadata": {
        "colab": {
          "base_uri": "https://localhost:8080/",
          "height": 404
        },
        "id": "cyo5UGFuPR6B",
        "outputId": "1c0c92f2-1793-4ac5-ea9c-c45269142f91"
      },
      "source": [
        "plt.figure(figsize=(10,6))\n",
        "sns.countplot(data=df, x='color');"
      ],
      "execution_count": 838,
      "outputs": [
        {
          "output_type": "display_data",
          "data": {
            "image/png": "[encoded data removed]",
            "text/plain": [
              "<Figure size 720x432 with 1 Axes>"
            ]
          },
          "metadata": {
            "needs_background": "light"
          }
        }
      ]
    },
    {
      "cell_type": "code",
      "metadata": {
        "colab": {
          "base_uri": "https://localhost:8080/"
        },
        "id": "W6RB9e_7PbYP",
        "outputId": "dcc5f859-02ca-42c2-e872-edddd4279adc"
      },
      "source": [
        "(df['color'].value_counts().values[0]/len(df))*100"
      ],
      "execution_count": 839,
      "outputs": [
        {
          "output_type": "execute_result",
          "data": {
            "text/plain": [
              "96.71436142024378"
            ]
          },
          "metadata": {},
          "execution_count": 839
        }
      ]
    },
    {
      "cell_type": "markdown",
      "metadata": {
        "id": "ZwabFWEYPe7R"
      },
      "source": [
        "Around 97% movies are are in color."
      ]
    },
    {
      "cell_type": "code",
      "metadata": {
        "colab": {
          "base_uri": "https://localhost:8080/",
          "height": 403
        },
        "id": "D4g5qXEdPdDN",
        "outputId": "69b0acf7-717e-4fc3-afb6-4ffc532cf309"
      },
      "source": [
        "top_ten = df.sort_values('gross', ascending=False).iloc[:10, :][['movie_title', 'gross']]\n",
        "movies = list(top_ten['movie_title'])\n",
        "gross = list(top_ten['gross'])\n",
        "plt.figure(figsize=(10,6))\n",
        "plt.barh(movies[::-1], gross[::-1]);"
      ],
      "execution_count": 840,
      "outputs": [
        {
          "output_type": "display_data",
          "data": {
            "image/png": "[encoded data removed]",
            "text/plain": [
              "<Figure size 720x432 with 1 Axes>"
            ]
          },
          "metadata": {
            "needs_background": "light"
          }
        }
      ]
    },
    {
      "cell_type": "markdown",
      "metadata": {
        "id": "GdLxj52YPjDL"
      },
      "source": [
        "Avatar is the highest grossing movie"
      ]
    },
    {
      "cell_type": "code",
      "metadata": {
        "colab": {
          "base_uri": "https://localhost:8080/",
          "height": 382
        },
        "id": "aWoGx1eIPhfU",
        "outputId": "399c17f2-d059-424d-db7a-5b9972462ccd"
      },
      "source": [
        "top_directors = df.groupby('director_name').count()\n",
        "top_directors = top_directors.sort_values('color', ascending=False)\n",
        "top_directors = top_directors.iloc[:10, :1]\n",
        "plt.figure(figsize=(10,6))\n",
        "plt.barh(top_directors.index[::-1], top_directors['color'][::-1]);"
      ],
      "execution_count": 841,
      "outputs": [
        {
          "output_type": "display_data",
          "data": {
            "image/png": "[encoded data removed]",
            "text/plain": [
              "<Figure size 720x432 with 1 Axes>"
            ]
          },
          "metadata": {
            "needs_background": "light"
          }
        }
      ]
    },
    {
      "cell_type": "markdown",
      "metadata": {
        "id": "lNAIcnRpPwVQ"
      },
      "source": [
        "Steven Speilberg seems to have directed most number of movies"
      ]
    },
    {
      "cell_type": "code",
      "metadata": {
        "colab": {
          "base_uri": "https://localhost:8080/",
          "height": 382
        },
        "id": "KqtMk4F3PnkU",
        "outputId": "da7b279e-9df0-426f-df98-98089059491f"
      },
      "source": [
        "top_actors = df.groupby('actor_1_name').count()\n",
        "top_actors = top_actors.sort_values('color', ascending=False)\n",
        "top_actors = top_actors.iloc[:10, :1]\n",
        "plt.figure(figsize=(10,6))\n",
        "plt.barh(top_actors.index[::-1], top_actors['color'][::-1]);"
      ],
      "execution_count": 842,
      "outputs": [
        {
          "output_type": "display_data",
          "data": {
            "image/png": "[encoded data removed]",
            "text/plain": [
              "<Figure size 720x432 with 1 Axes>"
            ]
          },
          "metadata": {
            "needs_background": "light"
          }
        }
      ]
    },
    {
      "cell_type": "markdown",
      "metadata": {
        "id": "OK88EDrUP15l"
      },
      "source": [
        "Robert De Niro seems to have acted in most of the movies (Around 50)"
      ]
    },
    {
      "cell_type": "code",
      "metadata": {
        "id": "8ik3AXUnPzw1"
      },
      "source": [
        "df2 = df[['num_critic_for_reviews', 'budget', 'color',  'gross']]"
      ],
      "execution_count": 843,
      "outputs": []
    },
    {
      "cell_type": "code",
      "metadata": {
        "colab": {
          "base_uri": "https://localhost:8080/",
          "height": 437
        },
        "id": "Wd7-5_ivP5dd",
        "outputId": "ece78863-02ac-4239-b795-d9adc8e06b9e"
      },
      "source": [
        "font = {'weight' : 'regular',\n",
        "        'size'   : 12}\n",
        "matplotlib.rc('font', **font)\n",
        "\n",
        "fig, axes = plt.subplots(1, 2, figsize=(10,6))\n",
        "axes[0].set_title('Num. critic reviews vs Gross')\n",
        "axes[1].set_title('Budget vs Gross')\n",
        "fig.suptitle('Variation of gross according to critic reviews and budget')\n",
        "\n",
        "sns.scatterplot(ax=axes[0], x=df2['num_critic_for_reviews'], y=df['gross'], hue=df['color'], alpha=0.5, edgeColors=None)\n",
        "sns.scatterplot(ax=axes[1], x=df2['budget'], y=df['gross'], hue=df['color'], alpha=0.5, edgeColors=None);"
      ],
      "execution_count": 844,
      "outputs": [
        {
          "output_type": "display_data",
          "data": {
            "image/png": "[encoded data removed]",
            "text/plain": [
              "<Figure size 720x432 with 2 Axes>"
            ]
          },
          "metadata": {
            "needs_background": "light"
          }
        }
      ]
    },
    {
      "cell_type": "markdown",
      "metadata": {
        "id": "D_3SibxMQCX7"
      },
      "source": [
        "- There is not much significant relationship between number of critic reviews and gross income\n",
        "\n",
        "- But here we can also see that higher budget need not necessarily give higher gross\n",
        "\n"
      ]
    },
    {
      "cell_type": "code",
      "metadata": {
        "colab": {
          "base_uri": "https://localhost:8080/",
          "height": 397
        },
        "id": "7SFmWrYOP7BZ",
        "outputId": "33f05af6-dcd2-43c0-a77e-ab0dae37cf86"
      },
      "source": [
        "plt.figure(figsize=(10,6))\n",
        "sns.scatterplot(data=ndf, x='num_voted_users', y='imdb_score', alpha=0.5, edgeColors=None);"
      ],
      "execution_count": 845,
      "outputs": [
        {
          "output_type": "display_data",
          "data": {
            "image/png": "[encoded data removed]",
            "text/plain": [
              "<Figure size 720x432 with 1 Axes>"
            ]
          },
          "metadata": {
            "needs_background": "light"
          }
        }
      ]
    },
    {
      "cell_type": "markdown",
      "metadata": {
        "id": "6qYynH_YQHQw"
      },
      "source": [
        "From here we can infer that \n",
        "- If there are more number of voters for a movie, its rating is definitely going to be very high."
      ]
    },
    {
      "cell_type": "code",
      "metadata": {
        "colab": {
          "base_uri": "https://localhost:8080/",
          "height": 407
        },
        "id": "Pi8mFo1zQEry",
        "outputId": "ce9ff6b5-b5e9-40d8-c741-e3127a69da7d"
      },
      "source": [
        "plt.figure(figsize=(10,6))\n",
        "sns.scatterplot(data=df, x='cast_total_facebook_likes', y='gross',alpha=0.5, edgeColors=None);"
      ],
      "execution_count": 846,
      "outputs": [
        {
          "output_type": "display_data",
          "data": {
            "image/png": "[encoded data removed]",
            "text/plain": [
              "<Figure size 720x432 with 1 Axes>"
            ]
          },
          "metadata": {
            "needs_background": "light"
          }
        }
      ]
    },
    {
      "cell_type": "markdown",
      "metadata": {
        "id": "k2ykSg-4QK6c"
      },
      "source": [
        "Having a huge number of facebook likes does not affect the gross income of the actors' movie"
      ]
    },
    {
      "cell_type": "code",
      "metadata": {
        "colab": {
          "base_uri": "https://localhost:8080/",
          "height": 417
        },
        "id": "sYWRcb4mQJE8",
        "outputId": "3f913b8c-6d61-4eb9-c81a-f4f1ed0f3cc2"
      },
      "source": [
        "top_directors = df.groupby('director_name').count().sort_values('color', ascending=False).iloc[:10,:]\n",
        "top_directors\n",
        "\n",
        "df3 = pd.DataFrame(columns=['director_name', 'gross'])\n",
        "for i in top_directors.index:\n",
        "  df3 = df3.append(df[df['director_name'] == i][['director_name','gross']])\n",
        "df3"
      ],
      "execution_count": 847,
      "outputs": [
        {
          "output_type": "execute_result",
          "data": {
            "text/html": [
              "<div>\n",
              "<style scoped>\n",
              "    .dataframe tbody tr th:only-of-type {\n",
              "        vertical-align: middle;\n",
              "    }\n",
              "\n",
              "    .dataframe tbody tr th {\n",
              "        vertical-align: top;\n",
              "    }\n",
              "\n",
              "    .dataframe thead th {\n",
              "        text-align: right;\n",
              "    }\n",
              "</style>\n",
              "<table border=\"1\" class=\"dataframe\">\n",
              "  <thead>\n",
              "    <tr style=\"text-align: right;\">\n",
              "      <th></th>\n",
              "      <th>director_name</th>\n",
              "      <th>gross</th>\n",
              "    </tr>\n",
              "  </thead>\n",
              "  <tbody>\n",
              "    <tr>\n",
              "      <th>54</th>\n",
              "      <td>Steven Spielberg</td>\n",
              "      <td>317011114.0</td>\n",
              "    </tr>\n",
              "    <tr>\n",
              "      <th>178</th>\n",
              "      <td>Steven Spielberg</td>\n",
              "      <td>52792307.0</td>\n",
              "    </tr>\n",
              "    <tr>\n",
              "      <th>189</th>\n",
              "      <td>Steven Spielberg</td>\n",
              "      <td>234277056.0</td>\n",
              "    </tr>\n",
              "    <tr>\n",
              "      <th>194</th>\n",
              "      <td>Steven Spielberg</td>\n",
              "      <td>77564037.0</td>\n",
              "    </tr>\n",
              "    <tr>\n",
              "      <th>284</th>\n",
              "      <td>Steven Spielberg</td>\n",
              "      <td>132014112.0</td>\n",
              "    </tr>\n",
              "    <tr>\n",
              "      <th>...</th>\n",
              "      <td>...</td>\n",
              "      <td>...</td>\n",
              "    </tr>\n",
              "    <tr>\n",
              "      <th>2253</th>\n",
              "      <td>Robert Rodriguez</td>\n",
              "      <td>25753840.0</td>\n",
              "    </tr>\n",
              "    <tr>\n",
              "      <th>2305</th>\n",
              "      <td>Robert Rodriguez</td>\n",
              "      <td>7268659.0</td>\n",
              "    </tr>\n",
              "    <tr>\n",
              "      <th>2634</th>\n",
              "      <td>Robert Rodriguez</td>\n",
              "      <td>40064955.0</td>\n",
              "    </tr>\n",
              "    <tr>\n",
              "      <th>3479</th>\n",
              "      <td>Robert Rodriguez</td>\n",
              "      <td>25625110.0</td>\n",
              "    </tr>\n",
              "    <tr>\n",
              "      <th>5035</th>\n",
              "      <td>Robert Rodriguez</td>\n",
              "      <td>2040920.0</td>\n",
              "    </tr>\n",
              "  </tbody>\n",
              "</table>\n",
              "<p>171 rows × 2 columns</p>\n",
              "</div>"
            ],
            "text/plain": [
              "         director_name        gross\n",
              "54    Steven Spielberg  317011114.0\n",
              "178   Steven Spielberg   52792307.0\n",
              "189   Steven Spielberg  234277056.0\n",
              "194   Steven Spielberg   77564037.0\n",
              "284   Steven Spielberg  132014112.0\n",
              "...                ...          ...\n",
              "2253  Robert Rodriguez   25753840.0\n",
              "2305  Robert Rodriguez    7268659.0\n",
              "2634  Robert Rodriguez   40064955.0\n",
              "3479  Robert Rodriguez   25625110.0\n",
              "5035  Robert Rodriguez    2040920.0\n",
              "\n",
              "[171 rows x 2 columns]"
            ]
          },
          "metadata": {},
          "execution_count": 847
        }
      ]
    },
    {
      "cell_type": "code",
      "metadata": {
        "colab": {
          "base_uri": "https://localhost:8080/",
          "height": 394
        },
        "id": "LgYRkhHgQMyo",
        "outputId": "de21aad5-73db-4ce3-b51e-27e75dd1c07b"
      },
      "source": [
        "plt.figure(figsize=(10,6))\n",
        "sns.boxplot(data=df3, y='director_name', x='gross');"
      ],
      "execution_count": 848,
      "outputs": [
        {
          "output_type": "display_data",
          "data": {
            "image/png": "[encoded data removed]",
            "text/plain": [
              "<Figure size 720x432 with 1 Axes>"
            ]
          },
          "metadata": {
            "needs_background": "light"
          }
        }
      ]
    },
    {
      "cell_type": "markdown",
      "metadata": {
        "id": "7LuBw2BNQZl4"
      },
      "source": [
        "Steven Spielberg's movies avg gross is higher than any other director. His movies gross also range wide across many values."
      ]
    },
    {
      "cell_type": "code",
      "metadata": {
        "colab": {
          "base_uri": "https://localhost:8080/",
          "height": 410
        },
        "id": "ee-zMzAhQbyd",
        "outputId": "4bf60024-c969-46cc-f073-a01a8cc30dfa"
      },
      "source": [
        "genredf = df.groupby('genre').sum()\n",
        "genredf = genredf.sort_values('gross', ascending=False)\n",
        "genre = list(genredf.index)\n",
        "gross = list(genredf.gross)\n",
        "plt.figure(figsize=(10,6))\n",
        "plt.barh(genre[::-1], gross[::-1])"
      ],
      "execution_count": 849,
      "outputs": [
        {
          "output_type": "execute_result",
          "data": {
            "text/plain": [
              "<BarContainer object of 17 artists>"
            ]
          },
          "metadata": {},
          "execution_count": 849
        },
        {
          "output_type": "display_data",
          "data": {
            "image/png": "[encoded data removed]",
            "text/plain": [
              "<Figure size 720x432 with 1 Axes>"
            ]
          },
          "metadata": {
            "needs_background": "light"
          }
        }
      ]
    },
    {
      "cell_type": "markdown",
      "metadata": {
        "id": "Sh2GDwIYQd6E"
      },
      "source": [
        "Action, Comedy and then Adventure are the top grossing genres"
      ]
    },
    {
      "cell_type": "markdown",
      "metadata": {
        "id": "pjcMI1CkRFua"
      },
      "source": [
        "## Data Normalization"
      ]
    },
    {
      "cell_type": "code",
      "metadata": {
        "id": "ZdyYqGGHRxKi"
      },
      "source": [
        "df = df.drop(['color', 'director_name', 'actor_1_name', 'actor_2_name', 'movie_title'], axis=1)"
      ],
      "execution_count": 850,
      "outputs": []
    },
    {
      "cell_type": "code",
      "metadata": {
        "colab": {
          "base_uri": "https://localhost:8080/"
        },
        "id": "Oa1BTfdmRINE",
        "outputId": "3e3a63ae-22c8-4af3-e08a-175907cd809d"
      },
      "source": [
        "numerics = ['int16', 'int32', 'int64', 'float16', 'float32', 'float64']\n",
        "\n",
        "newdf = df.select_dtypes(include=numerics)\n",
        "newdf_obj = df.select_dtypes(include='object')\n",
        "df_columns = newdf.columns\n",
        "z_score_scaler = preprocessing.StandardScaler()\n",
        "ndf = z_score_scaler.fit_transform(newdf)\n",
        "newdf = pd.DataFrame(ndf,columns=df_columns)\n",
        "\n",
        "newdf['tmp'] = np.arange(len(newdf))\n",
        "newdf_obj['tmp'] = np.arange(len(newdf_obj))\n",
        "ndf = newdf_obj.join(newdf, on='tmp', lsuffix='_original', rsuffix='_normalized')\n",
        "del ndf[\"tmp_original\"]\n",
        "del ndf[\"tmp_normalized\"]\n",
        "\n",
        "df = ndf\n",
        "df.info()"
      ],
      "execution_count": 851,
      "outputs": [
        {
          "output_type": "stream",
          "name": "stdout",
          "text": [
            "<class 'pandas.core.frame.DataFrame'>\n",
            "Int64Index: 3774 entries, 0 to 5042\n",
            "Data columns (total 18 columns):\n",
            " #   Column                     Non-Null Count  Dtype  \n",
            "---  ------                     --------------  -----  \n",
            " 0   language                   3774 non-null   object \n",
            " 1   country                    3774 non-null   object \n",
            " 2   content_rating             3774 non-null   object \n",
            " 3   genre                      3774 non-null   object \n",
            " 4   num_critic_for_reviews     3774 non-null   float64\n",
            " 5   duration                   3774 non-null   float64\n",
            " 6   gross                      3774 non-null   float64\n",
            " 7   num_voted_users            3774 non-null   float64\n",
            " 8   cast_total_facebook_likes  3774 non-null   float64\n",
            " 9   facenumber_in_poster       3774 non-null   float64\n",
            " 10  num_user_for_reviews       3774 non-null   float64\n",
            " 11  budget                     3774 non-null   float64\n",
            " 12  imdb_score                 3774 non-null   float64\n",
            " 13  aspect_ratio               3774 non-null   float64\n",
            " 14  movie_facebook_likes       3774 non-null   float64\n",
            " 15  director_facebook_likes    3774 non-null   float64\n",
            " 16  actor_1_facebook_likes     3774 non-null   float64\n",
            " 17  actor_2_facebook_likes     3774 non-null   float64\n",
            "dtypes: float64(14), object(4)\n",
            "memory usage: 720.2+ KB\n"
          ]
        }
      ]
    },
    {
      "cell_type": "code",
      "metadata": {
        "colab": {
          "base_uri": "https://localhost:8080/",
          "height": 223
        },
        "id": "gdHprXcibW6t",
        "outputId": "0391aff5-e522-40a3-c2b9-62cea79a64b1"
      },
      "source": [
        "df.head()"
      ],
      "execution_count": 852,
      "outputs": [
        {
          "output_type": "execute_result",
          "data": {
            "text/html": [
              "<div>\n",
              "<style scoped>\n",
              "    .dataframe tbody tr th:only-of-type {\n",
              "        vertical-align: middle;\n",
              "    }\n",
              "\n",
              "    .dataframe tbody tr th {\n",
              "        vertical-align: top;\n",
              "    }\n",
              "\n",
              "    .dataframe thead th {\n",
              "        text-align: right;\n",
              "    }\n",
              "</style>\n",
              "<table border=\"1\" class=\"dataframe\">\n",
              "  <thead>\n",
              "    <tr style=\"text-align: right;\">\n",
              "      <th></th>\n",
              "      <th>language</th>\n",
              "      <th>country</th>\n",
              "      <th>content_rating</th>\n",
              "      <th>genre</th>\n",
              "      <th>num_critic_for_reviews</th>\n",
              "      <th>duration</th>\n",
              "      <th>gross</th>\n",
              "      <th>num_voted_users</th>\n",
              "      <th>cast_total_facebook_likes</th>\n",
              "      <th>facenumber_in_poster</th>\n",
              "      <th>num_user_for_reviews</th>\n",
              "      <th>budget</th>\n",
              "      <th>imdb_score</th>\n",
              "      <th>aspect_ratio</th>\n",
              "      <th>movie_facebook_likes</th>\n",
              "      <th>director_facebook_likes</th>\n",
              "      <th>actor_1_facebook_likes</th>\n",
              "      <th>actor_2_facebook_likes</th>\n",
              "    </tr>\n",
              "  </thead>\n",
              "  <tbody>\n",
              "    <tr>\n",
              "      <th>0</th>\n",
              "      <td>English</td>\n",
              "      <td>USA</td>\n",
              "      <td>PG-13</td>\n",
              "      <td>Action</td>\n",
              "      <td>4.504169</td>\n",
              "      <td>2.995312</td>\n",
              "      <td>10.083700</td>\n",
              "      <td>5.143623</td>\n",
              "      <td>-0.348268</td>\n",
              "      <td>-0.674142</td>\n",
              "      <td>6.619325</td>\n",
              "      <td>0.846773</td>\n",
              "      <td>1.357791</td>\n",
              "      <td>-0.937145</td>\n",
              "      <td>1.105490</td>\n",
              "      <td>-0.262620</td>\n",
              "      <td>-0.433885</td>\n",
              "      <td>-0.237533</td>\n",
              "    </tr>\n",
              "    <tr>\n",
              "      <th>1</th>\n",
              "      <td>English</td>\n",
              "      <td>USA</td>\n",
              "      <td>PG-13</td>\n",
              "      <td>Action</td>\n",
              "      <td>1.095160</td>\n",
              "      <td>2.597690</td>\n",
              "      <td>3.659912</td>\n",
              "      <td>2.410031</td>\n",
              "      <td>1.931650</td>\n",
              "      <td>-0.674142</td>\n",
              "      <td>2.197518</td>\n",
              "      <td>1.126195</td>\n",
              "      <td>0.601031</td>\n",
              "      <td>0.677631</td>\n",
              "      <td>-0.435227</td>\n",
              "      <td>-0.078686</td>\n",
              "      <td>2.084174</td>\n",
              "      <td>0.658573</td>\n",
              "    </tr>\n",
              "    <tr>\n",
              "      <th>2</th>\n",
              "      <td>English</td>\n",
              "      <td>UK</td>\n",
              "      <td>PG-13</td>\n",
              "      <td>Action</td>\n",
              "      <td>3.524383</td>\n",
              "      <td>1.669905</td>\n",
              "      <td>2.103029</td>\n",
              "      <td>1.123203</td>\n",
              "      <td>0.011460</td>\n",
              "      <td>-0.183928</td>\n",
              "      <td>1.603399</td>\n",
              "      <td>0.882255</td>\n",
              "      <td>0.317246</td>\n",
              "      <td>0.677631</td>\n",
              "      <td>3.533287</td>\n",
              "      <td>-0.262620</td>\n",
              "      <td>0.211771</td>\n",
              "      <td>-0.357264</td>\n",
              "    </tr>\n",
              "    <tr>\n",
              "      <th>3</th>\n",
              "      <td>English</td>\n",
              "      <td>USA</td>\n",
              "      <td>PG-13</td>\n",
              "      <td>Action</td>\n",
              "      <td>5.232936</td>\n",
              "      <td>2.376789</td>\n",
              "      <td>5.635408</td>\n",
              "      <td>6.844003</td>\n",
              "      <td>4.991851</td>\n",
              "      <td>-0.674142</td>\n",
              "      <td>5.759800</td>\n",
              "      <td>0.904432</td>\n",
              "      <td>1.925360</td>\n",
              "      <td>0.677631</td>\n",
              "      <td>7.221669</td>\n",
              "      <td>6.924853</td>\n",
              "      <td>1.244821</td>\n",
              "      <td>4.627545</td>\n",
              "    </tr>\n",
              "    <tr>\n",
              "      <th>5</th>\n",
              "      <td>English</td>\n",
              "      <td>USA</td>\n",
              "      <td>PG-13</td>\n",
              "      <td>Action</td>\n",
              "      <td>2.390746</td>\n",
              "      <td>0.963021</td>\n",
              "      <td>0.294300</td>\n",
              "      <td>0.703834</td>\n",
              "      <td>-0.503403</td>\n",
              "      <td>-0.183928</td>\n",
              "      <td>0.980061</td>\n",
              "      <td>0.965195</td>\n",
              "      <td>0.128057</td>\n",
              "      <td>0.677631</td>\n",
              "      <td>0.685295</td>\n",
              "      <td>-0.107436</td>\n",
              "      <td>-0.457129</td>\n",
              "      <td>-0.304565</td>\n",
              "    </tr>\n",
              "  </tbody>\n",
              "</table>\n",
              "</div>"
            ],
            "text/plain": [
              "  language country  ... actor_1_facebook_likes actor_2_facebook_likes\n",
              "0  English     USA  ...              -0.433885              -0.237533\n",
              "1  English     USA  ...               2.084174               0.658573\n",
              "2  English      UK  ...               0.211771              -0.357264\n",
              "3  English     USA  ...               1.244821               4.627545\n",
              "5  English     USA  ...              -0.457129              -0.304565\n",
              "\n",
              "[5 rows x 18 columns]"
            ]
          },
          "metadata": {},
          "execution_count": 852
        }
      ]
    },
    {
      "cell_type": "markdown",
      "metadata": {
        "id": "vK55YCziTKqc"
      },
      "source": [
        "## Perform encoding\n",
        "\n",
        "Onehot encoding"
      ]
    },
    {
      "cell_type": "code",
      "metadata": {
        "colab": {
          "base_uri": "https://localhost:8080/",
          "height": 269
        },
        "id": "8GuR9MMqTMCx",
        "outputId": "ae22ab4c-d7df-4bb8-82a0-382bf64b6d3e"
      },
      "source": [
        "df = pd.get_dummies(df)\n",
        "df.head()"
      ],
      "execution_count": 853,
      "outputs": [
        {
          "output_type": "execute_result",
          "data": {
            "text/html": [
              "<div>\n",
              "<style scoped>\n",
              "    .dataframe tbody tr th:only-of-type {\n",
              "        vertical-align: middle;\n",
              "    }\n",
              "\n",
              "    .dataframe tbody tr th {\n",
              "        vertical-align: top;\n",
              "    }\n",
              "\n",
              "    .dataframe thead th {\n",
              "        text-align: right;\n",
              "    }\n",
              "</style>\n",
              "<table border=\"1\" class=\"dataframe\">\n",
              "  <thead>\n",
              "    <tr style=\"text-align: right;\">\n",
              "      <th></th>\n",
              "      <th>num_critic_for_reviews</th>\n",
              "      <th>duration</th>\n",
              "      <th>gross</th>\n",
              "      <th>num_voted_users</th>\n",
              "      <th>cast_total_facebook_likes</th>\n",
              "      <th>facenumber_in_poster</th>\n",
              "      <th>num_user_for_reviews</th>\n",
              "      <th>budget</th>\n",
              "      <th>imdb_score</th>\n",
              "      <th>aspect_ratio</th>\n",
              "      <th>movie_facebook_likes</th>\n",
              "      <th>director_facebook_likes</th>\n",
              "      <th>actor_1_facebook_likes</th>\n",
              "      <th>actor_2_facebook_likes</th>\n",
              "      <th>language_Aboriginal</th>\n",
              "      <th>language_Arabic</th>\n",
              "      <th>language_Aramaic</th>\n",
              "      <th>language_Bosnian</th>\n",
              "      <th>language_Cantonese</th>\n",
              "      <th>language_Czech</th>\n",
              "      <th>language_Danish</th>\n",
              "      <th>language_Dari</th>\n",
              "      <th>language_Dutch</th>\n",
              "      <th>language_English</th>\n",
              "      <th>language_Filipino</th>\n",
              "      <th>language_French</th>\n",
              "      <th>language_German</th>\n",
              "      <th>language_Hebrew</th>\n",
              "      <th>language_Hindi</th>\n",
              "      <th>language_Hungarian</th>\n",
              "      <th>language_Indonesian</th>\n",
              "      <th>language_Italian</th>\n",
              "      <th>language_Japanese</th>\n",
              "      <th>language_Kazakh</th>\n",
              "      <th>language_Korean</th>\n",
              "      <th>language_Mandarin</th>\n",
              "      <th>language_Maya</th>\n",
              "      <th>language_Mongolian</th>\n",
              "      <th>language_None</th>\n",
              "      <th>language_Norwegian</th>\n",
              "      <th>...</th>\n",
              "      <th>country_Poland</th>\n",
              "      <th>country_Romania</th>\n",
              "      <th>country_Russia</th>\n",
              "      <th>country_South Africa</th>\n",
              "      <th>country_South Korea</th>\n",
              "      <th>country_Spain</th>\n",
              "      <th>country_Taiwan</th>\n",
              "      <th>country_Thailand</th>\n",
              "      <th>country_UK</th>\n",
              "      <th>country_USA</th>\n",
              "      <th>country_West Germany</th>\n",
              "      <th>content_rating_Approved</th>\n",
              "      <th>content_rating_G</th>\n",
              "      <th>content_rating_GP</th>\n",
              "      <th>content_rating_M</th>\n",
              "      <th>content_rating_NC-17</th>\n",
              "      <th>content_rating_Not Rated</th>\n",
              "      <th>content_rating_PG</th>\n",
              "      <th>content_rating_PG-13</th>\n",
              "      <th>content_rating_Passed</th>\n",
              "      <th>content_rating_R</th>\n",
              "      <th>content_rating_Unrated</th>\n",
              "      <th>content_rating_X</th>\n",
              "      <th>genre_Action</th>\n",
              "      <th>genre_Adventure</th>\n",
              "      <th>genre_Animation</th>\n",
              "      <th>genre_Biography</th>\n",
              "      <th>genre_Comedy</th>\n",
              "      <th>genre_Crime</th>\n",
              "      <th>genre_Documentary</th>\n",
              "      <th>genre_Drama</th>\n",
              "      <th>genre_Family</th>\n",
              "      <th>genre_Fantasy</th>\n",
              "      <th>genre_Horror</th>\n",
              "      <th>genre_Musical</th>\n",
              "      <th>genre_Mystery</th>\n",
              "      <th>genre_Romance</th>\n",
              "      <th>genre_Sci-Fi</th>\n",
              "      <th>genre_Thriller</th>\n",
              "      <th>genre_Western</th>\n",
              "    </tr>\n",
              "  </thead>\n",
              "  <tbody>\n",
              "    <tr>\n",
              "      <th>0</th>\n",
              "      <td>4.504169</td>\n",
              "      <td>2.995312</td>\n",
              "      <td>10.083700</td>\n",
              "      <td>5.143623</td>\n",
              "      <td>-0.348268</td>\n",
              "      <td>-0.674142</td>\n",
              "      <td>6.619325</td>\n",
              "      <td>0.846773</td>\n",
              "      <td>1.357791</td>\n",
              "      <td>-0.937145</td>\n",
              "      <td>1.105490</td>\n",
              "      <td>-0.262620</td>\n",
              "      <td>-0.433885</td>\n",
              "      <td>-0.237533</td>\n",
              "      <td>0</td>\n",
              "      <td>0</td>\n",
              "      <td>0</td>\n",
              "      <td>0</td>\n",
              "      <td>0</td>\n",
              "      <td>0</td>\n",
              "      <td>0</td>\n",
              "      <td>0</td>\n",
              "      <td>0</td>\n",
              "      <td>1</td>\n",
              "      <td>0</td>\n",
              "      <td>0</td>\n",
              "      <td>0</td>\n",
              "      <td>0</td>\n",
              "      <td>0</td>\n",
              "      <td>0</td>\n",
              "      <td>0</td>\n",
              "      <td>0</td>\n",
              "      <td>0</td>\n",
              "      <td>0</td>\n",
              "      <td>0</td>\n",
              "      <td>0</td>\n",
              "      <td>0</td>\n",
              "      <td>0</td>\n",
              "      <td>0</td>\n",
              "      <td>0</td>\n",
              "      <td>...</td>\n",
              "      <td>0</td>\n",
              "      <td>0</td>\n",
              "      <td>0</td>\n",
              "      <td>0</td>\n",
              "      <td>0</td>\n",
              "      <td>0</td>\n",
              "      <td>0</td>\n",
              "      <td>0</td>\n",
              "      <td>0</td>\n",
              "      <td>1</td>\n",
              "      <td>0</td>\n",
              "      <td>0</td>\n",
              "      <td>0</td>\n",
              "      <td>0</td>\n",
              "      <td>0</td>\n",
              "      <td>0</td>\n",
              "      <td>0</td>\n",
              "      <td>0</td>\n",
              "      <td>1</td>\n",
              "      <td>0</td>\n",
              "      <td>0</td>\n",
              "      <td>0</td>\n",
              "      <td>0</td>\n",
              "      <td>1</td>\n",
              "      <td>0</td>\n",
              "      <td>0</td>\n",
              "      <td>0</td>\n",
              "      <td>0</td>\n",
              "      <td>0</td>\n",
              "      <td>0</td>\n",
              "      <td>0</td>\n",
              "      <td>0</td>\n",
              "      <td>0</td>\n",
              "      <td>0</td>\n",
              "      <td>0</td>\n",
              "      <td>0</td>\n",
              "      <td>0</td>\n",
              "      <td>0</td>\n",
              "      <td>0</td>\n",
              "      <td>0</td>\n",
              "    </tr>\n",
              "    <tr>\n",
              "      <th>1</th>\n",
              "      <td>1.095160</td>\n",
              "      <td>2.597690</td>\n",
              "      <td>3.659912</td>\n",
              "      <td>2.410031</td>\n",
              "      <td>1.931650</td>\n",
              "      <td>-0.674142</td>\n",
              "      <td>2.197518</td>\n",
              "      <td>1.126195</td>\n",
              "      <td>0.601031</td>\n",
              "      <td>0.677631</td>\n",
              "      <td>-0.435227</td>\n",
              "      <td>-0.078686</td>\n",
              "      <td>2.084174</td>\n",
              "      <td>0.658573</td>\n",
              "      <td>0</td>\n",
              "      <td>0</td>\n",
              "      <td>0</td>\n",
              "      <td>0</td>\n",
              "      <td>0</td>\n",
              "      <td>0</td>\n",
              "      <td>0</td>\n",
              "      <td>0</td>\n",
              "      <td>0</td>\n",
              "      <td>1</td>\n",
              "      <td>0</td>\n",
              "      <td>0</td>\n",
              "      <td>0</td>\n",
              "      <td>0</td>\n",
              "      <td>0</td>\n",
              "      <td>0</td>\n",
              "      <td>0</td>\n",
              "      <td>0</td>\n",
              "      <td>0</td>\n",
              "      <td>0</td>\n",
              "      <td>0</td>\n",
              "      <td>0</td>\n",
              "      <td>0</td>\n",
              "      <td>0</td>\n",
              "      <td>0</td>\n",
              "      <td>0</td>\n",
              "      <td>...</td>\n",
              "      <td>0</td>\n",
              "      <td>0</td>\n",
              "      <td>0</td>\n",
              "      <td>0</td>\n",
              "      <td>0</td>\n",
              "      <td>0</td>\n",
              "      <td>0</td>\n",
              "      <td>0</td>\n",
              "      <td>0</td>\n",
              "      <td>1</td>\n",
              "      <td>0</td>\n",
              "      <td>0</td>\n",
              "      <td>0</td>\n",
              "      <td>0</td>\n",
              "      <td>0</td>\n",
              "      <td>0</td>\n",
              "      <td>0</td>\n",
              "      <td>0</td>\n",
              "      <td>1</td>\n",
              "      <td>0</td>\n",
              "      <td>0</td>\n",
              "      <td>0</td>\n",
              "      <td>0</td>\n",
              "      <td>1</td>\n",
              "      <td>0</td>\n",
              "      <td>0</td>\n",
              "      <td>0</td>\n",
              "      <td>0</td>\n",
              "      <td>0</td>\n",
              "      <td>0</td>\n",
              "      <td>0</td>\n",
              "      <td>0</td>\n",
              "      <td>0</td>\n",
              "      <td>0</td>\n",
              "      <td>0</td>\n",
              "      <td>0</td>\n",
              "      <td>0</td>\n",
              "      <td>0</td>\n",
              "      <td>0</td>\n",
              "      <td>0</td>\n",
              "    </tr>\n",
              "    <tr>\n",
              "      <th>2</th>\n",
              "      <td>3.524383</td>\n",
              "      <td>1.669905</td>\n",
              "      <td>2.103029</td>\n",
              "      <td>1.123203</td>\n",
              "      <td>0.011460</td>\n",
              "      <td>-0.183928</td>\n",
              "      <td>1.603399</td>\n",
              "      <td>0.882255</td>\n",
              "      <td>0.317246</td>\n",
              "      <td>0.677631</td>\n",
              "      <td>3.533287</td>\n",
              "      <td>-0.262620</td>\n",
              "      <td>0.211771</td>\n",
              "      <td>-0.357264</td>\n",
              "      <td>0</td>\n",
              "      <td>0</td>\n",
              "      <td>0</td>\n",
              "      <td>0</td>\n",
              "      <td>0</td>\n",
              "      <td>0</td>\n",
              "      <td>0</td>\n",
              "      <td>0</td>\n",
              "      <td>0</td>\n",
              "      <td>1</td>\n",
              "      <td>0</td>\n",
              "      <td>0</td>\n",
              "      <td>0</td>\n",
              "      <td>0</td>\n",
              "      <td>0</td>\n",
              "      <td>0</td>\n",
              "      <td>0</td>\n",
              "      <td>0</td>\n",
              "      <td>0</td>\n",
              "      <td>0</td>\n",
              "      <td>0</td>\n",
              "      <td>0</td>\n",
              "      <td>0</td>\n",
              "      <td>0</td>\n",
              "      <td>0</td>\n",
              "      <td>0</td>\n",
              "      <td>...</td>\n",
              "      <td>0</td>\n",
              "      <td>0</td>\n",
              "      <td>0</td>\n",
              "      <td>0</td>\n",
              "      <td>0</td>\n",
              "      <td>0</td>\n",
              "      <td>0</td>\n",
              "      <td>0</td>\n",
              "      <td>1</td>\n",
              "      <td>0</td>\n",
              "      <td>0</td>\n",
              "      <td>0</td>\n",
              "      <td>0</td>\n",
              "      <td>0</td>\n",
              "      <td>0</td>\n",
              "      <td>0</td>\n",
              "      <td>0</td>\n",
              "      <td>0</td>\n",
              "      <td>1</td>\n",
              "      <td>0</td>\n",
              "      <td>0</td>\n",
              "      <td>0</td>\n",
              "      <td>0</td>\n",
              "      <td>1</td>\n",
              "      <td>0</td>\n",
              "      <td>0</td>\n",
              "      <td>0</td>\n",
              "      <td>0</td>\n",
              "      <td>0</td>\n",
              "      <td>0</td>\n",
              "      <td>0</td>\n",
              "      <td>0</td>\n",
              "      <td>0</td>\n",
              "      <td>0</td>\n",
              "      <td>0</td>\n",
              "      <td>0</td>\n",
              "      <td>0</td>\n",
              "      <td>0</td>\n",
              "      <td>0</td>\n",
              "      <td>0</td>\n",
              "    </tr>\n",
              "    <tr>\n",
              "      <th>3</th>\n",
              "      <td>5.232936</td>\n",
              "      <td>2.376789</td>\n",
              "      <td>5.635408</td>\n",
              "      <td>6.844003</td>\n",
              "      <td>4.991851</td>\n",
              "      <td>-0.674142</td>\n",
              "      <td>5.759800</td>\n",
              "      <td>0.904432</td>\n",
              "      <td>1.925360</td>\n",
              "      <td>0.677631</td>\n",
              "      <td>7.221669</td>\n",
              "      <td>6.924853</td>\n",
              "      <td>1.244821</td>\n",
              "      <td>4.627545</td>\n",
              "      <td>0</td>\n",
              "      <td>0</td>\n",
              "      <td>0</td>\n",
              "      <td>0</td>\n",
              "      <td>0</td>\n",
              "      <td>0</td>\n",
              "      <td>0</td>\n",
              "      <td>0</td>\n",
              "      <td>0</td>\n",
              "      <td>1</td>\n",
              "      <td>0</td>\n",
              "      <td>0</td>\n",
              "      <td>0</td>\n",
              "      <td>0</td>\n",
              "      <td>0</td>\n",
              "      <td>0</td>\n",
              "      <td>0</td>\n",
              "      <td>0</td>\n",
              "      <td>0</td>\n",
              "      <td>0</td>\n",
              "      <td>0</td>\n",
              "      <td>0</td>\n",
              "      <td>0</td>\n",
              "      <td>0</td>\n",
              "      <td>0</td>\n",
              "      <td>0</td>\n",
              "      <td>...</td>\n",
              "      <td>0</td>\n",
              "      <td>0</td>\n",
              "      <td>0</td>\n",
              "      <td>0</td>\n",
              "      <td>0</td>\n",
              "      <td>0</td>\n",
              "      <td>0</td>\n",
              "      <td>0</td>\n",
              "      <td>0</td>\n",
              "      <td>1</td>\n",
              "      <td>0</td>\n",
              "      <td>0</td>\n",
              "      <td>0</td>\n",
              "      <td>0</td>\n",
              "      <td>0</td>\n",
              "      <td>0</td>\n",
              "      <td>0</td>\n",
              "      <td>0</td>\n",
              "      <td>1</td>\n",
              "      <td>0</td>\n",
              "      <td>0</td>\n",
              "      <td>0</td>\n",
              "      <td>0</td>\n",
              "      <td>1</td>\n",
              "      <td>0</td>\n",
              "      <td>0</td>\n",
              "      <td>0</td>\n",
              "      <td>0</td>\n",
              "      <td>0</td>\n",
              "      <td>0</td>\n",
              "      <td>0</td>\n",
              "      <td>0</td>\n",
              "      <td>0</td>\n",
              "      <td>0</td>\n",
              "      <td>0</td>\n",
              "      <td>0</td>\n",
              "      <td>0</td>\n",
              "      <td>0</td>\n",
              "      <td>0</td>\n",
              "      <td>0</td>\n",
              "    </tr>\n",
              "    <tr>\n",
              "      <th>5</th>\n",
              "      <td>2.390746</td>\n",
              "      <td>0.963021</td>\n",
              "      <td>0.294300</td>\n",
              "      <td>0.703834</td>\n",
              "      <td>-0.503403</td>\n",
              "      <td>-0.183928</td>\n",
              "      <td>0.980061</td>\n",
              "      <td>0.965195</td>\n",
              "      <td>0.128057</td>\n",
              "      <td>0.677631</td>\n",
              "      <td>0.685295</td>\n",
              "      <td>-0.107436</td>\n",
              "      <td>-0.457129</td>\n",
              "      <td>-0.304565</td>\n",
              "      <td>0</td>\n",
              "      <td>0</td>\n",
              "      <td>0</td>\n",
              "      <td>0</td>\n",
              "      <td>0</td>\n",
              "      <td>0</td>\n",
              "      <td>0</td>\n",
              "      <td>0</td>\n",
              "      <td>0</td>\n",
              "      <td>1</td>\n",
              "      <td>0</td>\n",
              "      <td>0</td>\n",
              "      <td>0</td>\n",
              "      <td>0</td>\n",
              "      <td>0</td>\n",
              "      <td>0</td>\n",
              "      <td>0</td>\n",
              "      <td>0</td>\n",
              "      <td>0</td>\n",
              "      <td>0</td>\n",
              "      <td>0</td>\n",
              "      <td>0</td>\n",
              "      <td>0</td>\n",
              "      <td>0</td>\n",
              "      <td>0</td>\n",
              "      <td>0</td>\n",
              "      <td>...</td>\n",
              "      <td>0</td>\n",
              "      <td>0</td>\n",
              "      <td>0</td>\n",
              "      <td>0</td>\n",
              "      <td>0</td>\n",
              "      <td>0</td>\n",
              "      <td>0</td>\n",
              "      <td>0</td>\n",
              "      <td>0</td>\n",
              "      <td>1</td>\n",
              "      <td>0</td>\n",
              "      <td>0</td>\n",
              "      <td>0</td>\n",
              "      <td>0</td>\n",
              "      <td>0</td>\n",
              "      <td>0</td>\n",
              "      <td>0</td>\n",
              "      <td>0</td>\n",
              "      <td>1</td>\n",
              "      <td>0</td>\n",
              "      <td>0</td>\n",
              "      <td>0</td>\n",
              "      <td>0</td>\n",
              "      <td>1</td>\n",
              "      <td>0</td>\n",
              "      <td>0</td>\n",
              "      <td>0</td>\n",
              "      <td>0</td>\n",
              "      <td>0</td>\n",
              "      <td>0</td>\n",
              "      <td>0</td>\n",
              "      <td>0</td>\n",
              "      <td>0</td>\n",
              "      <td>0</td>\n",
              "      <td>0</td>\n",
              "      <td>0</td>\n",
              "      <td>0</td>\n",
              "      <td>0</td>\n",
              "      <td>0</td>\n",
              "      <td>0</td>\n",
              "    </tr>\n",
              "  </tbody>\n",
              "</table>\n",
              "<p>5 rows × 122 columns</p>\n",
              "</div>"
            ],
            "text/plain": [
              "   num_critic_for_reviews  duration  ...  genre_Thriller  genre_Western\n",
              "0                4.504169  2.995312  ...               0              0\n",
              "1                1.095160  2.597690  ...               0              0\n",
              "2                3.524383  1.669905  ...               0              0\n",
              "3                5.232936  2.376789  ...               0              0\n",
              "5                2.390746  0.963021  ...               0              0\n",
              "\n",
              "[5 rows x 122 columns]"
            ]
          },
          "metadata": {},
          "execution_count": 853
        }
      ]
    },
    {
      "cell_type": "markdown",
      "metadata": {
        "id": "_2vcOtpFSdDd"
      },
      "source": [
        "Separating features and labels"
      ]
    },
    {
      "cell_type": "code",
      "metadata": {
        "id": "361ko1-3ScAT"
      },
      "source": [
        "X = df.drop('gross', axis=1)\n",
        "y = df['gross']"
      ],
      "execution_count": 854,
      "outputs": []
    },
    {
      "cell_type": "code",
      "metadata": {
        "id": "UaKnsBtWVBwm"
      },
      "source": [
        "X = scipy.sparse.csr_matrix(X.values)"
      ],
      "execution_count": 855,
      "outputs": []
    },
    {
      "cell_type": "markdown",
      "metadata": {
        "id": "uROPYn_rSGVi"
      },
      "source": [
        "## Train Test Splitting"
      ]
    },
    {
      "cell_type": "code",
      "metadata": {
        "id": "D5ImV24RSIbz"
      },
      "source": [
        "from sklearn.model_selection import train_test_split"
      ],
      "execution_count": 856,
      "outputs": []
    },
    {
      "cell_type": "code",
      "metadata": {
        "id": "Rc9PAJauUNt5"
      },
      "source": [
        "X_train, X_test, y_train, y_test = train_test_split(X, y, test_size=0.2, random_state=101)"
      ],
      "execution_count": 857,
      "outputs": []
    },
    {
      "cell_type": "markdown",
      "metadata": {
        "id": "GwOAVwzLRa9D"
      },
      "source": [
        "## Model Building\n",
        "\n",
        "We train the following ML models on the dataset:\n",
        "\n",
        "1. Linear Regression\n",
        "2. SVM\n",
        "3. Decision Trees (CART)   \n"
      ]
    },
    {
      "cell_type": "markdown",
      "metadata": {
        "id": "-ftdl7uoRm2o"
      },
      "source": [
        "### Linear Regression"
      ]
    },
    {
      "cell_type": "code",
      "metadata": {
        "id": "Ko_uS5dqRdQW"
      },
      "source": [
        ""
      ],
      "execution_count": 857,
      "outputs": []
    },
    {
      "cell_type": "markdown",
      "metadata": {
        "id": "4bYcdMOmRpHQ"
      },
      "source": [
        "### SVM"
      ]
    },
    {
      "cell_type": "code",
      "metadata": {
        "id": "hqRLW_9tRaM9"
      },
      "source": [
        ""
      ],
      "execution_count": 857,
      "outputs": []
    },
    {
      "cell_type": "markdown",
      "metadata": {
        "id": "rVXHVanxRqrP"
      },
      "source": [
        "### Decision Trees"
      ]
    },
    {
      "cell_type": "code",
      "metadata": {
        "id": "iwEwTyU7Rse7"
      },
      "source": [
        "from sklearn.tree import DecisionTreeRegressor"
      ],
      "execution_count": 858,
      "outputs": []
    },
    {
      "cell_type": "code",
      "metadata": {
        "id": "rqk7aYHXciz3"
      },
      "source": [
        "model = DecisionTreeRegressor(splitter='best', criterion='mse')"
      ],
      "execution_count": 859,
      "outputs": []
    },
    {
      "cell_type": "code",
      "metadata": {
        "colab": {
          "base_uri": "https://localhost:8080/"
        },
        "id": "PkkRYJxvdl-l",
        "outputId": "2a584779-bfb8-4916-832c-1ba7bcd3e1b4"
      },
      "source": [
        "model.fit(X_train, y_train)"
      ],
      "execution_count": 860,
      "outputs": [
        {
          "output_type": "execute_result",
          "data": {
            "text/plain": [
              "DecisionTreeRegressor(ccp_alpha=0.0, criterion='mse', max_depth=None,\n",
              "                      max_features=None, max_leaf_nodes=None,\n",
              "                      min_impurity_decrease=0.0, min_impurity_split=None,\n",
              "                      min_samples_leaf=1, min_samples_split=2,\n",
              "                      min_weight_fraction_leaf=0.0, presort='deprecated',\n",
              "                      random_state=None, splitter='best')"
            ]
          },
          "metadata": {},
          "execution_count": 860
        }
      ]
    },
    {
      "cell_type": "code",
      "metadata": {
        "id": "QaVXO0ltdtxf"
      },
      "source": [
        "preds = model.predict(X_test)"
      ],
      "execution_count": 861,
      "outputs": []
    },
    {
      "cell_type": "code",
      "metadata": {
        "colab": {
          "base_uri": "https://localhost:8080/"
        },
        "id": "bK8KP2YSd5uQ",
        "outputId": "f5cfe0bc-8e31-4930-b561-cf5d0bbb3dda"
      },
      "source": [
        "feature_importances = model.feature_importances_\n",
        "feature_importances"
      ],
      "execution_count": 862,
      "outputs": [
        {
          "output_type": "execute_result",
          "data": {
            "text/plain": [
              "array([6.88352361e-02, 3.25341307e-02, 4.40929485e-01, 2.10511572e-02,\n",
              "       8.18267091e-03, 2.01291395e-02, 1.92105389e-01, 3.12875158e-02,\n",
              "       5.97666145e-03, 2.02509780e-02, 2.94208603e-02, 1.56583039e-02,\n",
              "       3.03347298e-02, 0.00000000e+00, 0.00000000e+00, 0.00000000e+00,\n",
              "       0.00000000e+00, 1.43559973e-04, 0.00000000e+00, 0.00000000e+00,\n",
              "       0.00000000e+00, 0.00000000e+00, 2.12065826e-04, 0.00000000e+00,\n",
              "       1.37453019e-05, 0.00000000e+00, 0.00000000e+00, 0.00000000e+00,\n",
              "       0.00000000e+00, 0.00000000e+00, 1.80535844e-06, 0.00000000e+00,\n",
              "       0.00000000e+00, 1.17578611e-10, 0.00000000e+00, 0.00000000e+00,\n",
              "       0.00000000e+00, 0.00000000e+00, 0.00000000e+00, 0.00000000e+00,\n",
              "       1.60538792e-09, 0.00000000e+00, 0.00000000e+00, 0.00000000e+00,\n",
              "       0.00000000e+00, 0.00000000e+00, 0.00000000e+00, 0.00000000e+00,\n",
              "       2.22554603e-08, 0.00000000e+00, 2.35678762e-07, 0.00000000e+00,\n",
              "       0.00000000e+00, 1.32622344e-08, 0.00000000e+00, 0.00000000e+00,\n",
              "       1.69093475e-06, 0.00000000e+00, 0.00000000e+00, 3.29650661e-10,\n",
              "       7.54884589e-04, 0.00000000e+00, 3.93804815e-04, 0.00000000e+00,\n",
              "       0.00000000e+00, 0.00000000e+00, 0.00000000e+00, 0.00000000e+00,\n",
              "       0.00000000e+00, 0.00000000e+00, 1.62692584e-07, 0.00000000e+00,\n",
              "       1.26805963e-07, 3.80070011e-03, 2.43534338e-09, 0.00000000e+00,\n",
              "       0.00000000e+00, 0.00000000e+00, 0.00000000e+00, 3.36654672e-06,\n",
              "       0.00000000e+00, 0.00000000e+00, 0.00000000e+00, 0.00000000e+00,\n",
              "       0.00000000e+00, 1.60019905e-04, 5.29727123e-05, 0.00000000e+00,\n",
              "       0.00000000e+00, 5.02766727e-04, 3.82895092e-03, 0.00000000e+00,\n",
              "       2.97993441e-04, 2.07348343e-03, 0.00000000e+00, 4.33054014e-04,\n",
              "       0.00000000e+00, 2.44283649e-09, 1.01045416e-02, 6.31077306e-03,\n",
              "       2.97797451e-06, 3.09189424e-02, 0.00000000e+00, 8.01490680e-05,\n",
              "       7.43256586e-03, 6.55366421e-04, 3.81756065e-06, 1.84802214e-04,\n",
              "       3.57908140e-03, 4.57606054e-04, 8.19328074e-09, 1.08655382e-03,\n",
              "       7.36200860e-03, 9.15989758e-05, 5.59153252e-04, 1.42391636e-03,\n",
              "       0.00000000e+00, 0.00000000e+00, 3.74447216e-04, 0.00000000e+00,\n",
              "       0.00000000e+00])"
            ]
          },
          "metadata": {},
          "execution_count": 862
        }
      ]
    },
    {
      "cell_type": "code",
      "metadata": {
        "colab": {
          "base_uri": "https://localhost:8080/",
          "height": 357
        },
        "id": "wUA_cQ_ud_cx",
        "outputId": "ae749670-e494-4a4a-97f3-07e2e27f0d52"
      },
      "source": [
        "data = {\n",
        "    'Feature Importance': feature_importances*100\n",
        "}\n",
        "importances = pd.DataFrame(index=df.drop('gross', axis=1).columns, data=data).sort_values('Feature Importance', ascending=False)\n",
        "importances.iloc[:10]"
      ],
      "execution_count": 863,
      "outputs": [
        {
          "output_type": "execute_result",
          "data": {
            "text/html": [
              "<div>\n",
              "<style scoped>\n",
              "    .dataframe tbody tr th:only-of-type {\n",
              "        vertical-align: middle;\n",
              "    }\n",
              "\n",
              "    .dataframe tbody tr th {\n",
              "        vertical-align: top;\n",
              "    }\n",
              "\n",
              "    .dataframe thead th {\n",
              "        text-align: right;\n",
              "    }\n",
              "</style>\n",
              "<table border=\"1\" class=\"dataframe\">\n",
              "  <thead>\n",
              "    <tr style=\"text-align: right;\">\n",
              "      <th></th>\n",
              "      <th>Feature Importance</th>\n",
              "    </tr>\n",
              "  </thead>\n",
              "  <tbody>\n",
              "    <tr>\n",
              "      <th>num_voted_users</th>\n",
              "      <td>44.092948</td>\n",
              "    </tr>\n",
              "    <tr>\n",
              "      <th>budget</th>\n",
              "      <td>19.210539</td>\n",
              "    </tr>\n",
              "    <tr>\n",
              "      <th>num_critic_for_reviews</th>\n",
              "      <td>6.883524</td>\n",
              "    </tr>\n",
              "    <tr>\n",
              "      <th>duration</th>\n",
              "      <td>3.253413</td>\n",
              "    </tr>\n",
              "    <tr>\n",
              "      <th>imdb_score</th>\n",
              "      <td>3.128752</td>\n",
              "    </tr>\n",
              "    <tr>\n",
              "      <th>content_rating_R</th>\n",
              "      <td>3.091894</td>\n",
              "    </tr>\n",
              "    <tr>\n",
              "      <th>actor_2_facebook_likes</th>\n",
              "      <td>3.033473</td>\n",
              "    </tr>\n",
              "    <tr>\n",
              "      <th>director_facebook_likes</th>\n",
              "      <td>2.942086</td>\n",
              "    </tr>\n",
              "    <tr>\n",
              "      <th>cast_total_facebook_likes</th>\n",
              "      <td>2.105116</td>\n",
              "    </tr>\n",
              "    <tr>\n",
              "      <th>movie_facebook_likes</th>\n",
              "      <td>2.025098</td>\n",
              "    </tr>\n",
              "  </tbody>\n",
              "</table>\n",
              "</div>"
            ],
            "text/plain": [
              "                           Feature Importance\n",
              "num_voted_users                     44.092948\n",
              "budget                              19.210539\n",
              "num_critic_for_reviews               6.883524\n",
              "duration                             3.253413\n",
              "imdb_score                           3.128752\n",
              "content_rating_R                     3.091894\n",
              "actor_2_facebook_likes               3.033473\n",
              "director_facebook_likes              2.942086\n",
              "cast_total_facebook_likes            2.105116\n",
              "movie_facebook_likes                 2.025098"
            ]
          },
          "metadata": {},
          "execution_count": 863
        }
      ]
    },
    {
      "cell_type": "code",
      "metadata": {
        "id": "ppZFjwTWd8XN"
      },
      "source": [
        "from sklearn.tree import  plot_tree"
      ],
      "execution_count": 864,
      "outputs": []
    },
    {
      "cell_type": "code",
      "metadata": {
        "id": "OHrgRJE6fROx"
      },
      "source": [
        "# plt.figure(figsize=(12,8), dpi=200)\n",
        "# plot_tree(model, feature_names=df.drop('gross', axis=1).columns, filled=True);"
      ],
      "execution_count": 865,
      "outputs": []
    },
    {
      "cell_type": "markdown",
      "metadata": {
        "id": "RH30RPn3fjNg"
      },
      "source": [
        "### Evaluating the model"
      ]
    },
    {
      "cell_type": "code",
      "metadata": {
        "id": "dVePWaVhfiz3"
      },
      "source": [
        "from sklearn.metrics import mean_squared_error"
      ],
      "execution_count": 866,
      "outputs": []
    },
    {
      "cell_type": "code",
      "metadata": {
        "colab": {
          "base_uri": "https://localhost:8080/"
        },
        "id": "3LD6oNN4f4hO",
        "outputId": "837cc3a1-1703-4c5f-e1c7-c5c688433de2"
      },
      "source": [
        "mse = mean_squared_error(y_test, preds)\n",
        "mse"
      ],
      "execution_count": 867,
      "outputs": [
        {
          "output_type": "execute_result",
          "data": {
            "text/plain": [
              "0.5501591373110781"
            ]
          },
          "metadata": {},
          "execution_count": 867
        }
      ]
    },
    {
      "cell_type": "code",
      "metadata": {
        "colab": {
          "base_uri": "https://localhost:8080/"
        },
        "id": "GNc6yU5fgRPE",
        "outputId": "f88b5e30-23dd-4b65-9f1d-4d23e5106f3d"
      },
      "source": [
        "# RMSE\n",
        "np.sqrt(mse)"
      ],
      "execution_count": 868,
      "outputs": [
        {
          "output_type": "execute_result",
          "data": {
            "text/plain": [
              "0.7417271313030677"
            ]
          },
          "metadata": {},
          "execution_count": 868
        }
      ]
    },
    {
      "cell_type": "markdown",
      "metadata": {
        "id": "947hepClgXLY"
      },
      "source": [
        "The error obtained is quite low."
      ]
    }
  ]
}
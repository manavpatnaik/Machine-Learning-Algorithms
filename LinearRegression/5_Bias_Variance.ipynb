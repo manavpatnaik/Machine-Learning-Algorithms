{
 "cells": [
  {
   "cell_type": "markdown",
   "id": "d33d3cd3",
   "metadata": {},
   "source": [
    "# Bias-Variance tradeoff\n",
    "\n",
    "## We have to choose the optimal model\n",
    "\n",
    "How?\n",
    "\n",
    "> By choosing the optimal model complexity\n",
    "\n",
    "In our case of Polynomial regression, we have to decide on a particular degree of polynomials"
   ]
  },
  {
   "cell_type": "code",
   "execution_count": 3,
   "id": "4b760eed",
   "metadata": {},
   "outputs": [],
   "source": [
    "import numpy as np\n",
    "import pandas as pd\n",
    "import matplotlib.pyplot as plt\n",
    "import seaborn as sns\n",
    "\n",
    "from joblib import load"
   ]
  },
  {
   "cell_type": "markdown",
   "id": "605a6cfe",
   "metadata": {},
   "source": [
    "## Importing our saved poly. regression model"
   ]
  },
  {
   "cell_type": "code",
   "execution_count": 4,
   "id": "0825ec33",
   "metadata": {},
   "outputs": [],
   "source": [
    "model = load('polynomial_regression_sales.joblib')"
   ]
  },
  {
   "cell_type": "code",
   "execution_count": 6,
   "id": "470229fe",
   "metadata": {},
   "outputs": [
    {
     "data": {
      "text/plain": [
       "array([ 5.16525487e-02,  2.10742970e-02,  6.88373531e-03, -1.09702663e-04,\n",
       "        1.10525949e-03, -4.55155391e-05,  1.11997015e-04,  8.26605896e-05,\n",
       "        1.19125650e-05])"
      ]
     },
     "execution_count": 6,
     "metadata": {},
     "output_type": "execute_result"
    }
   ],
   "source": [
    "model.coef_"
   ]
  },
  {
   "cell_type": "markdown",
   "id": "ba82df84",
   "metadata": {},
   "source": [
    "## We measure error vs degree of complexity for our model to determine optimal complexity"
   ]
  },
  {
   "cell_type": "markdown",
   "id": "9c960dd3",
   "metadata": {},
   "source": [
    "Prepare dataset to train several models of varying degrees"
   ]
  },
  {
   "cell_type": "code",
   "execution_count": 9,
   "id": "8c19e26b",
   "metadata": {},
   "outputs": [],
   "source": [
    "df = pd.read_csv('Advertising.csv')"
   ]
  },
  {
   "cell_type": "code",
   "execution_count": 11,
   "id": "14041a20",
   "metadata": {},
   "outputs": [
    {
     "data": {
      "text/html": [
       "<div>\n",
       "<style scoped>\n",
       "    .dataframe tbody tr th:only-of-type {\n",
       "        vertical-align: middle;\n",
       "    }\n",
       "\n",
       "    .dataframe tbody tr th {\n",
       "        vertical-align: top;\n",
       "    }\n",
       "\n",
       "    .dataframe thead th {\n",
       "        text-align: right;\n",
       "    }\n",
       "</style>\n",
       "<table border=\"1\" class=\"dataframe\">\n",
       "  <thead>\n",
       "    <tr style=\"text-align: right;\">\n",
       "      <th></th>\n",
       "      <th>TV</th>\n",
       "      <th>radio</th>\n",
       "      <th>newspaper</th>\n",
       "      <th>sales</th>\n",
       "    </tr>\n",
       "  </thead>\n",
       "  <tbody>\n",
       "    <tr>\n",
       "      <th>0</th>\n",
       "      <td>230.1</td>\n",
       "      <td>37.8</td>\n",
       "      <td>69.2</td>\n",
       "      <td>22.1</td>\n",
       "    </tr>\n",
       "    <tr>\n",
       "      <th>1</th>\n",
       "      <td>44.5</td>\n",
       "      <td>39.3</td>\n",
       "      <td>45.1</td>\n",
       "      <td>10.4</td>\n",
       "    </tr>\n",
       "    <tr>\n",
       "      <th>2</th>\n",
       "      <td>17.2</td>\n",
       "      <td>45.9</td>\n",
       "      <td>69.3</td>\n",
       "      <td>9.3</td>\n",
       "    </tr>\n",
       "    <tr>\n",
       "      <th>3</th>\n",
       "      <td>151.5</td>\n",
       "      <td>41.3</td>\n",
       "      <td>58.5</td>\n",
       "      <td>18.5</td>\n",
       "    </tr>\n",
       "    <tr>\n",
       "      <th>4</th>\n",
       "      <td>180.8</td>\n",
       "      <td>10.8</td>\n",
       "      <td>58.4</td>\n",
       "      <td>12.9</td>\n",
       "    </tr>\n",
       "  </tbody>\n",
       "</table>\n",
       "</div>"
      ],
      "text/plain": [
       "      TV  radio  newspaper  sales\n",
       "0  230.1   37.8       69.2   22.1\n",
       "1   44.5   39.3       45.1   10.4\n",
       "2   17.2   45.9       69.3    9.3\n",
       "3  151.5   41.3       58.5   18.5\n",
       "4  180.8   10.8       58.4   12.9"
      ]
     },
     "execution_count": 11,
     "metadata": {},
     "output_type": "execute_result"
    }
   ],
   "source": [
    "df.head()"
   ]
  },
  {
   "cell_type": "code",
   "execution_count": 12,
   "id": "204e77bb",
   "metadata": {},
   "outputs": [],
   "source": [
    "X = df.drop('sales', axis=1)\n",
    "y = df['sales']"
   ]
  },
  {
   "cell_type": "code",
   "execution_count": 14,
   "id": "9779c08f",
   "metadata": {},
   "outputs": [],
   "source": [
    "from sklearn.preprocessing import PolynomialFeatures\n",
    "polynomial_converter = PolynomialFeatures(degree=2, include_bias=False)\n",
    "poly_features = polynomial_converter.fit_transform(X)"
   ]
  },
  {
   "cell_type": "code",
   "execution_count": 17,
   "id": "2c80c44f",
   "metadata": {},
   "outputs": [],
   "source": [
    "from sklearn.model_selection import train_test_split\n",
    "X_train, X_test, y_train, y_test = train_test_split(poly_features, y, test_size=0.3, random_state=101)"
   ]
  },
  {
   "cell_type": "markdown",
   "id": "8b06f779",
   "metadata": {},
   "source": [
    "## Create multiple degree models\n",
    "\n",
    "- Create different order polynomial features\n",
    "- Split those polynomial features into train/test\n",
    "- Store/save RMSE for both train and test\n",
    "- Plot the results"
   ]
  },
  {
   "cell_type": "code",
   "execution_count": 20,
   "id": "9185905f",
   "metadata": {},
   "outputs": [],
   "source": [
    "from sklearn.linear_model import LinearRegression\n",
    "\n",
    "train_rmse = []\n",
    "test_rmse = []\n",
    "\n",
    "for degree in range(1, 10):\n",
    "    poly_converter = PolynomialFeatures(degree=degree, include_bias=False)\n",
    "    poly_features = poly_converter.fit_transform(X)\n",
    "    \n",
    "    X_train, X_test, y_train, y_test = train_test_split(poly_features, y, test_size=0.3, random_state=101)\n",
    "    \n",
    "    model = LinearRegression()\n",
    "    model.fit(X_train, y_train)\n",
    "    \n",
    "    train_predict = model.predict(X_train)\n",
    "    test_predict = model.predict(X_test)\n",
    "    \n",
    "    train_rmse.append(np.sqrt(mean_squared_error(y_train, train_predict)))\n",
    "    test_rmse.append(np.sqrt(mean_squared_error(y_test, test_predict))) "
   ]
  },
  {
   "cell_type": "markdown",
   "id": "7581fb0b",
   "metadata": {},
   "source": [
    "## Plotting the errors"
   ]
  },
  {
   "cell_type": "code",
   "execution_count": 26,
   "id": "fd640245",
   "metadata": {},
   "outputs": [
    {
     "data": {
      "text/plain": [
       "<matplotlib.legend.Legend at 0x7f0b17b93130>"
      ]
     },
     "execution_count": 26,
     "metadata": {},
     "output_type": "execute_result"
    },
    {
     "data": {
      "image/png": "[encoded data removed]",
      "text/plain": [
       "<Figure size 432x288 with 1 Axes>"
      ]
     },
     "metadata": {
      "needs_background": "light"
     },
     "output_type": "display_data"
    }
   ],
   "source": [
    "plt.plot(range(1,6), train_rmse[:5], label='Train RMSE')\n",
    "plt.plot(range(1,6), test_rmse[:5], label='Test RMSE')\n",
    "plt.xlabel('Degree of polynomial')\n",
    "plt.ylabel('RMSE')\n",
    "plt.legend()"
   ]
  },
  {
   "cell_type": "markdown",
   "id": "399f03eb",
   "metadata": {},
   "source": [
    "We can clearly notice that as we increase the complexity, the RMSE values for both train and test sets keep decreasing.\n",
    "\n",
    "But at some point the RMSE for test set explodes. That is the point where **overfitting** occurs\n",
    "\n",
    "## Extreme overfitting"
   ]
  },
  {
   "cell_type": "code",
   "execution_count": 27,
   "id": "108a95b9",
   "metadata": {
    "scrolled": true
   },
   "outputs": [
    {
     "data": {
      "text/plain": [
       "<matplotlib.legend.Legend at 0x7f0b195933a0>"
      ]
     },
     "execution_count": 27,
     "metadata": {},
     "output_type": "execute_result"
    },
    {
     "data": {
      "image/png": "[encoded data removed]",
      "text/plain": [
       "<Figure size 432x288 with 1 Axes>"
      ]
     },
     "metadata": {
      "needs_background": "light"
     },
     "output_type": "display_data"
    }
   ],
   "source": [
    "plt.plot(range(1,10), train_rmse, label='Train RMSE')\n",
    "plt.plot(range(1,10), test_rmse, label='Test RMSE')\n",
    "plt.xlabel('Degree of polynomial')\n",
    "plt.ylabel('RMSE')\n",
    "plt.legend()"
   ]
  }
 ],
 "metadata": {
  "kernelspec": {
   "display_name": "Python 3 (ipykernel)",
   "language": "python",
   "name": "python3"
  },
  "language_info": {
   "codemirror_mode": {
    "name": "ipython",
    "version": 3
   },
   "file_extension": ".py",
   "mimetype": "text/x-python",
   "name": "python",
   "nbconvert_exporter": "python",
   "pygments_lexer": "ipython3",
   "version": "3.9.6"
  }
 },
 "nbformat": 4,
 "nbformat_minor": 5
}

{
 "cells": [
  {
   "cell_type": "markdown",
   "id": "d3a76727",
   "metadata": {},
   "source": [
    "Before understanding **Grid Search**, it is important to understand what **Hyperparameters** are."
   ]
  },
  {
   "cell_type": "markdown",
   "id": "465d4910",
   "metadata": {},
   "source": [
    "# Hyperparameters\n",
    "\n",
    "- A parameter whose value is used to control the learning process.\n",
    "- Set before the learning process begins\n",
    "- Cannot be interfered with during training\n",
    "- They directly affect how well the model trains\n",
    "\n",
    "Some algorithms like **OLS** dont require any hyperparameters.\n",
    "\n",
    "Some examples of hyperparameters:\n",
    "1. Learning rate $\\alpha$\n",
    "2. k in KNN algorithm\n",
    "3. Number of branches in decision tree etc."
   ]
  },
  {
   "cell_type": "markdown",
   "id": "31b4f3db",
   "metadata": {},
   "source": [
    "## Ways to optimize Hyperparameters:\n",
    "\n",
    "- Grid Search\n",
    "- Random Search\n",
    "- Bayesian Optimization\n",
    "- Gradient based optimization (Uses the gradient descent algorithm)\n",
    "- Evolutionary optimization (uses genetic functions to search hyperparameter space)"
   ]
  },
  {
   "cell_type": "markdown",
   "id": "b051b42c",
   "metadata": {},
   "source": [
    "# Grid Search\n",
    "\n",
    "Often complex models have multiple tunable hyperparameters than can affect the training process significantly.\n",
    "\n",
    "**Grid Search** is the way of training and validating a model on every possible combination of hyperparameters"
   ]
  },
  {
   "cell_type": "markdown",
   "id": "b5e64fb9",
   "metadata": {},
   "source": [
    "## Grid Search in Scikit learn\n",
    "\n",
    "Using the '''GridSearchCV''' class to test a dictionary of multiple hyperparameter options through cross validation.\n",
    "\n",
    "Provides for a more generalized method for any model."
   ]
  },
  {
   "cell_type": "code",
   "execution_count": 1,
   "id": "9d9d592b",
   "metadata": {},
   "outputs": [],
   "source": [
    "import numpy as np\n",
    "import pandas as pd"
   ]
  },
  {
   "cell_type": "code",
   "execution_count": 2,
   "id": "cb45c26a",
   "metadata": {},
   "outputs": [],
   "source": [
    "df = pd.read_csv('../Data/Advertising.csv')"
   ]
  },
  {
   "cell_type": "code",
   "execution_count": 4,
   "id": "1d0720c8",
   "metadata": {},
   "outputs": [
    {
     "data": {
      "text/html": [
       "<div>\n",
       "<style scoped>\n",
       "    .dataframe tbody tr th:only-of-type {\n",
       "        vertical-align: middle;\n",
       "    }\n",
       "\n",
       "    .dataframe tbody tr th {\n",
       "        vertical-align: top;\n",
       "    }\n",
       "\n",
       "    .dataframe thead th {\n",
       "        text-align: right;\n",
       "    }\n",
       "</style>\n",
       "<table border=\"1\" class=\"dataframe\">\n",
       "  <thead>\n",
       "    <tr style=\"text-align: right;\">\n",
       "      <th></th>\n",
       "      <th>TV</th>\n",
       "      <th>radio</th>\n",
       "      <th>newspaper</th>\n",
       "      <th>sales</th>\n",
       "    </tr>\n",
       "  </thead>\n",
       "  <tbody>\n",
       "    <tr>\n",
       "      <th>0</th>\n",
       "      <td>230.1</td>\n",
       "      <td>37.8</td>\n",
       "      <td>69.2</td>\n",
       "      <td>22.1</td>\n",
       "    </tr>\n",
       "    <tr>\n",
       "      <th>1</th>\n",
       "      <td>44.5</td>\n",
       "      <td>39.3</td>\n",
       "      <td>45.1</td>\n",
       "      <td>10.4</td>\n",
       "    </tr>\n",
       "    <tr>\n",
       "      <th>2</th>\n",
       "      <td>17.2</td>\n",
       "      <td>45.9</td>\n",
       "      <td>69.3</td>\n",
       "      <td>9.3</td>\n",
       "    </tr>\n",
       "    <tr>\n",
       "      <th>3</th>\n",
       "      <td>151.5</td>\n",
       "      <td>41.3</td>\n",
       "      <td>58.5</td>\n",
       "      <td>18.5</td>\n",
       "    </tr>\n",
       "    <tr>\n",
       "      <th>4</th>\n",
       "      <td>180.8</td>\n",
       "      <td>10.8</td>\n",
       "      <td>58.4</td>\n",
       "      <td>12.9</td>\n",
       "    </tr>\n",
       "  </tbody>\n",
       "</table>\n",
       "</div>"
      ],
      "text/plain": [
       "      TV  radio  newspaper  sales\n",
       "0  230.1   37.8       69.2   22.1\n",
       "1   44.5   39.3       45.1   10.4\n",
       "2   17.2   45.9       69.3    9.3\n",
       "3  151.5   41.3       58.5   18.5\n",
       "4  180.8   10.8       58.4   12.9"
      ]
     },
     "execution_count": 4,
     "metadata": {},
     "output_type": "execute_result"
    }
   ],
   "source": [
    "df.head()"
   ]
  },
  {
   "cell_type": "code",
   "execution_count": 5,
   "id": "0af5d1e8",
   "metadata": {},
   "outputs": [],
   "source": [
    "X = df.drop('sales', axis=1)\n",
    "y = df['sales']\n",
    "\n",
    "# TRAIN TEST SPLIT\n",
    "from sklearn.model_selection import train_test_split\n",
    "X_train, X_test, y_train, y_test = train_test_split(X, y, test_size=0.3, random_state=101)\n",
    "\n",
    "# SCALE DATA\n",
    "from sklearn.preprocessing import StandardScaler\n",
    "scaler = StandardScaler()\n",
    "scaler.fit(X_train)\n",
    "X_train = scaler.transform(X_train)\n",
    "X_test = scaler.transform(X_test)"
   ]
  },
  {
   "cell_type": "markdown",
   "id": "47043b35",
   "metadata": {},
   "source": [
    "Why do we fit the scaler only to training data and use that to transform both train and test data?\n",
    "\n",
    "**Short Answer:** To avoid __Data Leakage__"
   ]
  },
  {
   "cell_type": "markdown",
   "id": "10cc9666",
   "metadata": {},
   "source": [
    "### Lets choose a model that has 2 or more hyperparameters to adjust\n",
    "\n",
    "To test out GridSearchCV()\n",
    "\n",
    "The model we are going to use: **ElasticNet**\n",
    "\n",
    "The hyperparameters are:\n",
    "- $\\alpha$ - alpha\n",
    "- l1 ratio\n"
   ]
  },
  {
   "cell_type": "code",
   "execution_count": 7,
   "id": "d99c5b77",
   "metadata": {},
   "outputs": [],
   "source": [
    "from sklearn.linear_model import ElasticNet\n",
    "# help(ElasticNet)"
   ]
  },
  {
   "cell_type": "code",
   "execution_count": 8,
   "id": "02c81b29",
   "metadata": {},
   "outputs": [],
   "source": [
    "# We dont define any hyperparameters right now\n",
    "base_elasticnet_model = ElasticNet()"
   ]
  },
  {
   "cell_type": "markdown",
   "id": "515ffa59",
   "metadata": {},
   "source": [
    "#### The param_grid\n",
    "\n",
    "We have to define a parameter grid of our hyperparameters"
   ]
  },
  {
   "cell_type": "code",
   "execution_count": 11,
   "id": "ca4d6129",
   "metadata": {},
   "outputs": [],
   "source": [
    "# The key names must be the same as the Model parameter names (Refer docs)\n",
    "# We pass a list of hyperparam. values we want to check out in the tuning process \n",
    "param_grid = {\n",
    "    'alpha': [0.1, 1, 5, 10, 50, 100],\n",
    "    'l1_ratio': [0.1, .5, .7, .95, .99, 1]\n",
    "}"
   ]
  },
  {
   "cell_type": "markdown",
   "id": "cf0d5368",
   "metadata": {},
   "source": [
    "#### Perform Grid Search"
   ]
  },
  {
   "cell_type": "code",
   "execution_count": 12,
   "id": "bb2a836a",
   "metadata": {},
   "outputs": [],
   "source": [
    "from sklearn.model_selection import GridSearchCV"
   ]
  },
  {
   "cell_type": "code",
   "execution_count": 13,
   "id": "2b0a9e11",
   "metadata": {},
   "outputs": [],
   "source": [
    "grid_model = GridSearchCV(estimator=base_elasticnet_model, \n",
    "                          param_grid=param_grid,\n",
    "                          scoring='neg_mean_squared_error', cv=5)"
   ]
  },
  {
   "cell_type": "code",
   "execution_count": 14,
   "id": "becf4310",
   "metadata": {},
   "outputs": [
    {
     "data": {
      "text/plain": [
       "GridSearchCV(cv=5, estimator=ElasticNet(),\n",
       "             param_grid={'alpha': [0.1, 1, 5, 10, 50, 100],\n",
       "                         'l1_ratio': [0.1, 0.5, 0.7, 0.95, 0.99, 1]},\n",
       "             scoring='neg_mean_squared_error')"
      ]
     },
     "execution_count": 14,
     "metadata": {},
     "output_type": "execute_result"
    }
   ],
   "source": [
    "grid_model.fit(X_train, y_train)"
   ]
  },
  {
   "cell_type": "markdown",
   "id": "5e0c7df9",
   "metadata": {},
   "source": [
    "### Find out the best hyperparameters"
   ]
  },
  {
   "cell_type": "code",
   "execution_count": 16,
   "id": "d99797fb",
   "metadata": {},
   "outputs": [
    {
     "data": {
      "text/plain": [
       "ElasticNet(alpha=0.1, l1_ratio=1)"
      ]
     },
     "execution_count": 16,
     "metadata": {},
     "output_type": "execute_result"
    }
   ],
   "source": [
    "grid_model.best_estimator_"
   ]
  },
  {
   "cell_type": "code",
   "execution_count": 18,
   "id": "ca703d12",
   "metadata": {},
   "outputs": [
    {
     "data": {
      "text/plain": [
       "{'alpha': 0.1, 'l1_ratio': 1}"
      ]
     },
     "execution_count": 18,
     "metadata": {},
     "output_type": "execute_result"
    }
   ],
   "source": [
    "grid_model.best_params_"
   ]
  }
 ],
 "metadata": {
  "kernelspec": {
   "display_name": "Python 3 (ipykernel)",
   "language": "python",
   "name": "python3"
  },
  "language_info": {
   "codemirror_mode": {
    "name": "ipython",
    "version": 3
   },
   "file_extension": ".py",
   "mimetype": "text/x-python",
   "name": "python",
   "nbconvert_exporter": "python",
   "pygments_lexer": "ipython3",
   "version": "3.9.6"
  }
 },
 "nbformat": 4,
 "nbformat_minor": 5
}
